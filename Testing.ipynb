{
 "cells": [
  {
   "cell_type": "code",
   "execution_count": 2,
   "metadata": {},
   "outputs": [
    {
     "ename": "ModuleNotFoundError",
     "evalue": "No module named 'Components.predictor'",
     "output_type": "error",
     "traceback": [
      "\u001b[1;31m---------------------------------------------------------------------------\u001b[0m",
      "\u001b[1;31mModuleNotFoundError\u001b[0m                       Traceback (most recent call last)",
      "Cell \u001b[1;32mIn[2], line 7\u001b[0m\n\u001b[0;32m      3\u001b[0m \u001b[39m# Add the path to the folder containing the predictor classes\u001b[39;00m\n\u001b[0;32m      4\u001b[0m sys\u001b[39m.\u001b[39mpath\u001b[39m.\u001b[39mappend(\u001b[39m\"\u001b[39m\u001b[39m./Final\u001b[39m\u001b[39m\"\u001b[39m)\n\u001b[1;32m----> 7\u001b[0m \u001b[39mfrom\u001b[39;00m \u001b[39mComponents\u001b[39;00m\u001b[39m.\u001b[39;00m\u001b[39mpredictor\u001b[39;00m \u001b[39mimport\u001b[39;00m LSTMPredictor, GRUPredictor, ARIMAPredictor, TransformerPredictor\n\u001b[0;32m      8\u001b[0m \u001b[39mfrom\u001b[39;00m \u001b[39mComponents\u001b[39;00m\u001b[39m.\u001b[39;00m\u001b[39mModels\u001b[39;00m\u001b[39m.\u001b[39;00m\u001b[39mlstm_model\u001b[39;00m \u001b[39mimport\u001b[39;00m LSTMModel\n\u001b[0;32m      9\u001b[0m \u001b[39mimport\u001b[39;00m \u001b[39mdatetime\u001b[39;00m \u001b[39mas\u001b[39;00m \u001b[39mdt\u001b[39;00m   \n",
      "\u001b[1;31mModuleNotFoundError\u001b[0m: No module named 'Components.predictor'"
     ]
    }
   ],
   "source": [
    "import sys\n",
    "\n",
    "# Add the path to the folder containing the predictor classes\n",
    "sys.path.append(\"./Final\")\n",
    "\n",
    "\n",
    "from Components.predictor import LSTMPredictor, GRUPredictor, ARIMAPredictor, TransformerPredictor\n",
    "from Components.Models.lstm_model import LSTMModel\n",
    "import datetime as dt   \n",
    "\n",
    "import warnings\n",
    "warnings.filterwarnings(\"ignore\")"
   ]
  },
  {
   "cell_type": "code",
   "execution_count": null,
   "metadata": {},
   "outputs": [],
   "source": [
    "tickers = [\"TSLA\"]\n",
    "start = dt.datetime(2021, 1, 1)\n",
    "end = dt.datetime(2023, 1, 1)\n",
    "n_splits = 2"
   ]
  },
  {
   "cell_type": "code",
   "execution_count": null,
   "metadata": {},
   "outputs": [
    {
     "name": "stdout",
     "output_type": "stream",
     "text": [
      "Training LSTM model...\n",
      "Downloading data...\n",
      "[*********************100%***********************]  1 of 1 completed\n",
      "Data downloaded. Shape: (503, 7)\n",
      "                  Open        High         Low       Close   Adj Close  \\\n",
      "Date                                                                     \n",
      "2021-01-04  239.820007  248.163330  239.063339  243.256668  243.256668   \n",
      "2021-01-05  241.220001  246.946671  239.733337  245.036667  245.036667   \n",
      "2021-01-06  252.830002  258.000000  249.699997  251.993332  251.993332   \n",
      "\n",
      "               Volume  \n",
      "Date                   \n",
      "2021-01-04  145914600  \n",
      "2021-01-05   96735600  \n",
      "2021-01-06  134100000  \n",
      "X_train shape: (49, 60, 6)\t y_train shape: (49, 6)\n",
      "2/2 [==============================] - 5s 868ms/step - loss: 1634543354249216.0000 - val_loss: 877382898548736.0000\n",
      "2/2 [==============================] - 1s 13ms/step\n",
      "X_train shape: (49, 60, 6)\t y_train shape: (49, 6)\n",
      "2/2 [==============================] - 5s 886ms/step - loss: 1634543354249216.0000 - val_loss: 877382898548736.0000\n",
      "2/2 [==============================] - 1s 14ms/step\n",
      "X_train shape: (49, 60, 6)\t y_train shape: (49, 6)\n",
      "2/2 [==============================] - 5s 890ms/step - loss: 1634543354249216.0000 - val_loss: 877382898548736.0000\n",
      "2/2 [==============================] - 1s 11ms/step\n",
      "X_train shape: (49, 60, 6)\t y_train shape: (49, 6)\n",
      "2/2 [==============================] - 5s 885ms/step - loss: 1634543354249216.0000 - val_loss: 877382898548736.0000\n",
      "2/2 [==============================] - 1s 13ms/step\n",
      "X_train shape: (49, 60, 6)\t y_train shape: (49, 6)\n",
      "2/2 [==============================] - 5s 1s/step - loss: 1634543354249216.0000 - val_loss: 877382898548736.0000\n",
      "2/2 [==============================] - 1s 13ms/step\n",
      "X_train shape: (49, 60, 6)\t y_train shape: (49, 6)\n",
      "2/2 [==============================] - 5s 888ms/step - loss: 1634543354249216.0000 - val_loss: 877382898548736.0000\n",
      "2/2 [==============================] - 1s 13ms/step\n",
      "X_train shape: (49, 60, 6)\t y_train shape: (49, 6)\n",
      "2/2 [==============================] - 5s 843ms/step - loss: 1634543354249216.0000 - val_loss: 877382898548736.0000\n",
      "2/2 [==============================] - 1s 12ms/step\n",
      "X_train shape: (49, 60, 6)\t y_train shape: (49, 6)\n",
      "2/2 [==============================] - 5s 908ms/step - loss: 1634543354249216.0000 - val_loss: 877382898548736.0000\n",
      "2/2 [==============================] - 1s 18ms/step\n",
      "X_train shape: (49, 60, 6)\t y_train shape: (49, 6)\n",
      "2/2 [==============================] - 5s 930ms/step - loss: 1634543354249216.0000 - val_loss: 877382898548736.0000\n",
      "2/2 [==============================] - 1s 16ms/step\n",
      "X_train shape: (49, 60, 6)\t y_train shape: (49, 6)\n",
      "2/2 [==============================] - 5s 939ms/step - loss: 1634543354249216.0000 - val_loss: 877382898548736.0000\n",
      "2/2 [==============================] - 1s 22ms/step\n",
      "2/2 [==============================] - 5s 871ms/step - loss: 1634543354249216.0000 - val_loss: 877382898548736.0000\n",
      "X_train shape: (216, 60, 6)\t y_train shape: (216, 6)\n",
      "6/6 [==============================] - 6s 234ms/step - loss: 1083426975252480.0000 - val_loss: 1207929621446656.0000\n",
      "2/2 [==============================] - 1s 16ms/step\n",
      "X_train shape: (216, 60, 6)\t y_train shape: (216, 6)\n",
      "6/6 [==============================] - 6s 241ms/step - loss: 1083426975252480.0000 - val_loss: 1207929621446656.0000\n",
      "2/2 [==============================] - 1s 18ms/step\n",
      "X_train shape: (216, 60, 6)\t y_train shape: (216, 6)\n",
      "6/6 [==============================] - 6s 246ms/step - loss: 1083426975252480.0000 - val_loss: 1207929621446656.0000\n",
      "2/2 [==============================] - 1s 13ms/step\n",
      "X_train shape: (216, 60, 6)\t y_train shape: (216, 6)\n",
      "6/6 [==============================] - 6s 244ms/step - loss: 1083426975252480.0000 - val_loss: 1207929621446656.0000\n",
      "2/2 [==============================] - 1s 15ms/step\n",
      "X_train shape: (216, 60, 6)\t y_train shape: (216, 6)\n",
      "6/6 [==============================] - 5s 225ms/step - loss: 1083426975252480.0000 - val_loss: 1207929621446656.0000\n",
      "2/2 [==============================] - 1s 15ms/step\n",
      "X_train shape: (216, 60, 6)\t y_train shape: (216, 6)\n",
      "6/6 [==============================] - 6s 250ms/step - loss: 1083426975252480.0000 - val_loss: 1207929621446656.0000\n",
      "2/2 [==============================] - 1s 16ms/step\n",
      "X_train shape: (216, 60, 6)\t y_train shape: (216, 6)\n",
      "6/6 [==============================] - 6s 235ms/step - loss: 1083426975252480.0000 - val_loss: 1207929621446656.0000\n",
      "2/2 [==============================] - 1s 13ms/step\n",
      "X_train shape: (216, 60, 6)\t y_train shape: (216, 6)\n",
      "6/6 [==============================] - 6s 271ms/step - loss: 1083426975252480.0000 - val_loss: 1207929621446656.0000\n",
      "2/2 [==============================] - 1s 19ms/step\n",
      "X_train shape: (216, 60, 6)\t y_train shape: (216, 6)\n",
      "6/6 [==============================] - 6s 256ms/step - loss: 1083426975252480.0000 - val_loss: 1207929621446656.0000\n",
      "2/2 [==============================] - 1s 19ms/step\n",
      "X_train shape: (216, 60, 6)\t y_train shape: (216, 6)\n",
      "6/6 [==============================] - 6s 262ms/step - loss: 1083426975252480.0000 - val_loss: 1207929621446656.0000\n",
      "2/2 [==============================] - 1s 18ms/step\n",
      "6/6 [==============================] - 6s 262ms/step - loss: 1083426975252480.0000 - val_loss: 1207929621446656.0000\n",
      "44\n",
      "0.349425478714389\n",
      "adam\n",
      "42\n",
      "0.308190991820482\n",
      "adam\n",
      "44\n",
      "0.349425478714389\n",
      "adam\n",
      "42\n",
      "0.308190991820482\n",
      "adam\n"
     ]
    }
   ],
   "source": [
    "print(\"Training LSTM model...\")\n",
    "lstm_predictor = LSTMPredictor(tickers, start, end)\n",
    "best_hyperparameters = lstm_predictor.train_and_evaluate(n_splits=n_splits)\n",
    "\n",
    "for i in best_hyperparameters:\n",
    "    print(i)"
   ]
  },
  {
   "cell_type": "code",
   "execution_count": null,
   "metadata": {},
   "outputs": [
    {
     "ename": "TypeError",
     "evalue": "Dimension value must be integer or None or have an __index__ method, got value '0.349425478714389' with type '<class 'float'>'",
     "output_type": "error",
     "traceback": [
      "\u001b[1;31m---------------------------------------------------------------------------\u001b[0m",
      "\u001b[1;31mTypeError\u001b[0m                                 Traceback (most recent call last)",
      "Cell \u001b[1;32mIn[9], line 4\u001b[0m\n\u001b[0;32m      2\u001b[0m units \u001b[39m=\u001b[39m best_hyperparameters[\u001b[39m1\u001b[39m]\n\u001b[0;32m      3\u001b[0m dropout_rate \u001b[39m=\u001b[39m best_hyperparameters[\u001b[39m2\u001b[39m]\n\u001b[1;32m----> 4\u001b[0m model \u001b[39m=\u001b[39m LSTMModel(units\u001b[39m=\u001b[39;49munits, dropout_rate\u001b[39m=\u001b[39;49mdropout_rate, optimizer\u001b[39m=\u001b[39;49moptimizer)\n\u001b[0;32m      6\u001b[0m X_train, y_train \u001b[39m=\u001b[39m lstm_predictor\u001b[39m.\u001b[39mdata_handler\u001b[39m.\u001b[39mcreate_sequences(lstm_predictor\u001b[39m.\u001b[39mdata[:\u001b[39m-\u001b[39m\u001b[39m60\u001b[39m], \u001b[39m60\u001b[39m)\n\u001b[0;32m      7\u001b[0m model\u001b[39m.\u001b[39mtrain(X_train, y_train, epochs\u001b[39m=\u001b[39m\u001b[39m10\u001b[39m, batch_size\u001b[39m=\u001b[39m\u001b[39m32\u001b[39m, validation_split\u001b[39m=\u001b[39m\u001b[39m0.2\u001b[39m, patience\u001b[39m=\u001b[39m\u001b[39m5\u001b[39m)\n",
      "File \u001b[1;32mc:\\Users\\xande\\Documents\\Chapman\\Spring2023\\CPSC 393 Parlett\\CPSC_393\\HomeWork\\Final\\Components\\Models\\lstm_model.py:13\u001b[0m, in \u001b[0;36mLSTMModel.__init__\u001b[1;34m(self, units, dropout_rate, optimizer)\u001b[0m\n\u001b[0;32m     11\u001b[0m input_shape \u001b[39m=\u001b[39m (\u001b[39m60\u001b[39m, \u001b[39m6\u001b[39m)  \u001b[39m# Set the input_shape manually\u001b[39;00m\n\u001b[0;32m     12\u001b[0m \u001b[39mself\u001b[39m\u001b[39m.\u001b[39mmodel \u001b[39m=\u001b[39m Sequential()\n\u001b[1;32m---> 13\u001b[0m \u001b[39mself\u001b[39m\u001b[39m.\u001b[39mmodel\u001b[39m.\u001b[39madd(LSTM(units, return_sequences\u001b[39m=\u001b[39;49m\u001b[39mTrue\u001b[39;49;00m, input_shape\u001b[39m=\u001b[39;49minput_shape))\n\u001b[0;32m     14\u001b[0m \u001b[39mself\u001b[39m\u001b[39m.\u001b[39mmodel\u001b[39m.\u001b[39madd(Dropout(dropout_rate))\n\u001b[0;32m     15\u001b[0m \u001b[39mself\u001b[39m\u001b[39m.\u001b[39mmodel\u001b[39m.\u001b[39madd(LSTM(units, return_sequences\u001b[39m=\u001b[39m\u001b[39mTrue\u001b[39;00m))\n",
      "File \u001b[1;32mc:\\Users\\xande\\anaconda3\\envs\\cpsc393\\lib\\site-packages\\keras\\layers\\rnn\\lstm.py:573\u001b[0m, in \u001b[0;36mLSTM.__init__\u001b[1;34m(self, units, activation, recurrent_activation, use_bias, kernel_initializer, recurrent_initializer, bias_initializer, unit_forget_bias, kernel_regularizer, recurrent_regularizer, bias_regularizer, activity_regularizer, kernel_constraint, recurrent_constraint, bias_constraint, dropout, recurrent_dropout, return_sequences, return_state, go_backwards, stateful, time_major, unroll, **kwargs)\u001b[0m\n\u001b[0;32m    571\u001b[0m \u001b[39mself\u001b[39m\u001b[39m.\u001b[39mactivity_regularizer \u001b[39m=\u001b[39m regularizers\u001b[39m.\u001b[39mget(activity_regularizer)\n\u001b[0;32m    572\u001b[0m \u001b[39mself\u001b[39m\u001b[39m.\u001b[39minput_spec \u001b[39m=\u001b[39m [InputSpec(ndim\u001b[39m=\u001b[39m\u001b[39m3\u001b[39m)]\n\u001b[1;32m--> 573\u001b[0m \u001b[39mself\u001b[39m\u001b[39m.\u001b[39mstate_spec \u001b[39m=\u001b[39m [\n\u001b[0;32m    574\u001b[0m     InputSpec(shape\u001b[39m=\u001b[39m(\u001b[39mNone\u001b[39;00m, dim)) \u001b[39mfor\u001b[39;00m dim \u001b[39min\u001b[39;00m (\u001b[39mself\u001b[39m\u001b[39m.\u001b[39munits, \u001b[39mself\u001b[39m\u001b[39m.\u001b[39munits)\n\u001b[0;32m    575\u001b[0m ]\n\u001b[0;32m    576\u001b[0m \u001b[39mself\u001b[39m\u001b[39m.\u001b[39m_could_use_gpu_kernel \u001b[39m=\u001b[39m (\n\u001b[0;32m    577\u001b[0m     \u001b[39mself\u001b[39m\u001b[39m.\u001b[39mactivation \u001b[39min\u001b[39;00m (activations\u001b[39m.\u001b[39mtanh, tf\u001b[39m.\u001b[39mtanh)\n\u001b[0;32m    578\u001b[0m     \u001b[39mand\u001b[39;00m \u001b[39mself\u001b[39m\u001b[39m.\u001b[39mrecurrent_activation \u001b[39min\u001b[39;00m (activations\u001b[39m.\u001b[39msigmoid, tf\u001b[39m.\u001b[39msigmoid)\n\u001b[1;32m   (...)\u001b[0m\n\u001b[0;32m    582\u001b[0m     \u001b[39mand\u001b[39;00m tf\u001b[39m.\u001b[39mcompat\u001b[39m.\u001b[39mv1\u001b[39m.\u001b[39mexecuting_eagerly_outside_functions()\n\u001b[0;32m    583\u001b[0m )\n\u001b[0;32m    584\u001b[0m \u001b[39mif\u001b[39;00m tf\u001b[39m.\u001b[39mconfig\u001b[39m.\u001b[39mlist_logical_devices(\u001b[39m\"\u001b[39m\u001b[39mGPU\u001b[39m\u001b[39m\"\u001b[39m):\n\u001b[0;32m    585\u001b[0m     \u001b[39m# Only show the message when there is GPU available, user will not\u001b[39;00m\n\u001b[0;32m    586\u001b[0m     \u001b[39m# care about the cuDNN if there isn't any GPU.\u001b[39;00m\n",
      "File \u001b[1;32mc:\\Users\\xande\\anaconda3\\envs\\cpsc393\\lib\\site-packages\\keras\\layers\\rnn\\lstm.py:574\u001b[0m, in \u001b[0;36m<listcomp>\u001b[1;34m(.0)\u001b[0m\n\u001b[0;32m    571\u001b[0m \u001b[39mself\u001b[39m\u001b[39m.\u001b[39mactivity_regularizer \u001b[39m=\u001b[39m regularizers\u001b[39m.\u001b[39mget(activity_regularizer)\n\u001b[0;32m    572\u001b[0m \u001b[39mself\u001b[39m\u001b[39m.\u001b[39minput_spec \u001b[39m=\u001b[39m [InputSpec(ndim\u001b[39m=\u001b[39m\u001b[39m3\u001b[39m)]\n\u001b[0;32m    573\u001b[0m \u001b[39mself\u001b[39m\u001b[39m.\u001b[39mstate_spec \u001b[39m=\u001b[39m [\n\u001b[1;32m--> 574\u001b[0m     InputSpec(shape\u001b[39m=\u001b[39;49m(\u001b[39mNone\u001b[39;49;00m, dim)) \u001b[39mfor\u001b[39;00m dim \u001b[39min\u001b[39;00m (\u001b[39mself\u001b[39m\u001b[39m.\u001b[39munits, \u001b[39mself\u001b[39m\u001b[39m.\u001b[39munits)\n\u001b[0;32m    575\u001b[0m ]\n\u001b[0;32m    576\u001b[0m \u001b[39mself\u001b[39m\u001b[39m.\u001b[39m_could_use_gpu_kernel \u001b[39m=\u001b[39m (\n\u001b[0;32m    577\u001b[0m     \u001b[39mself\u001b[39m\u001b[39m.\u001b[39mactivation \u001b[39min\u001b[39;00m (activations\u001b[39m.\u001b[39mtanh, tf\u001b[39m.\u001b[39mtanh)\n\u001b[0;32m    578\u001b[0m     \u001b[39mand\u001b[39;00m \u001b[39mself\u001b[39m\u001b[39m.\u001b[39mrecurrent_activation \u001b[39min\u001b[39;00m (activations\u001b[39m.\u001b[39msigmoid, tf\u001b[39m.\u001b[39msigmoid)\n\u001b[1;32m   (...)\u001b[0m\n\u001b[0;32m    582\u001b[0m     \u001b[39mand\u001b[39;00m tf\u001b[39m.\u001b[39mcompat\u001b[39m.\u001b[39mv1\u001b[39m.\u001b[39mexecuting_eagerly_outside_functions()\n\u001b[0;32m    583\u001b[0m )\n\u001b[0;32m    584\u001b[0m \u001b[39mif\u001b[39;00m tf\u001b[39m.\u001b[39mconfig\u001b[39m.\u001b[39mlist_logical_devices(\u001b[39m\"\u001b[39m\u001b[39mGPU\u001b[39m\u001b[39m\"\u001b[39m):\n\u001b[0;32m    585\u001b[0m     \u001b[39m# Only show the message when there is GPU available, user will not\u001b[39;00m\n\u001b[0;32m    586\u001b[0m     \u001b[39m# care about the cuDNN if there isn't any GPU.\u001b[39;00m\n",
      "File \u001b[1;32mc:\\Users\\xande\\anaconda3\\envs\\cpsc393\\lib\\site-packages\\keras\\engine\\input_spec.py:87\u001b[0m, in \u001b[0;36mInputSpec.__init__\u001b[1;34m(self, dtype, shape, ndim, max_ndim, min_ndim, axes, allow_last_axis_squeeze, name)\u001b[0m\n\u001b[0;32m     75\u001b[0m \u001b[39mdef\u001b[39;00m \u001b[39m__init__\u001b[39m(\n\u001b[0;32m     76\u001b[0m     \u001b[39mself\u001b[39m,\n\u001b[0;32m     77\u001b[0m     dtype\u001b[39m=\u001b[39m\u001b[39mNone\u001b[39;00m,\n\u001b[1;32m   (...)\u001b[0m\n\u001b[0;32m     84\u001b[0m     name\u001b[39m=\u001b[39m\u001b[39mNone\u001b[39;00m,\n\u001b[0;32m     85\u001b[0m ):\n\u001b[0;32m     86\u001b[0m     \u001b[39mself\u001b[39m\u001b[39m.\u001b[39mdtype \u001b[39m=\u001b[39m tf\u001b[39m.\u001b[39mas_dtype(dtype)\u001b[39m.\u001b[39mname \u001b[39mif\u001b[39;00m dtype \u001b[39mis\u001b[39;00m \u001b[39mnot\u001b[39;00m \u001b[39mNone\u001b[39;00m \u001b[39melse\u001b[39;00m \u001b[39mNone\u001b[39;00m\n\u001b[1;32m---> 87\u001b[0m     shape \u001b[39m=\u001b[39m tf\u001b[39m.\u001b[39;49mTensorShape(shape)\n\u001b[0;32m     88\u001b[0m     \u001b[39mif\u001b[39;00m shape\u001b[39m.\u001b[39mrank \u001b[39mis\u001b[39;00m \u001b[39mNone\u001b[39;00m:\n\u001b[0;32m     89\u001b[0m         shape \u001b[39m=\u001b[39m \u001b[39mNone\u001b[39;00m\n",
      "File \u001b[1;32m~\\AppData\\Roaming\\Python\\Python38\\site-packages\\tensorflow\\python\\framework\\tensor_shape.py:774\u001b[0m, in \u001b[0;36mTensorShape.__init__\u001b[1;34m(self, dims)\u001b[0m\n\u001b[0;32m    765\u001b[0m \u001b[39m\"\"\"Creates a new TensorShape with the given dimensions.\u001b[39;00m\n\u001b[0;32m    766\u001b[0m \n\u001b[0;32m    767\u001b[0m \u001b[39mArgs:\u001b[39;00m\n\u001b[1;32m   (...)\u001b[0m\n\u001b[0;32m    771\u001b[0m \u001b[39m  TypeError: If dims cannot be converted to a list of dimensions.\u001b[39;00m\n\u001b[0;32m    772\u001b[0m \u001b[39m\"\"\"\u001b[39;00m\n\u001b[0;32m    773\u001b[0m \u001b[39mif\u001b[39;00m \u001b[39misinstance\u001b[39m(dims, (\u001b[39mtuple\u001b[39m, \u001b[39mlist\u001b[39m)):  \u001b[39m# Most common case.\u001b[39;00m\n\u001b[1;32m--> 774\u001b[0m   \u001b[39mself\u001b[39m\u001b[39m.\u001b[39m_dims \u001b[39m=\u001b[39m \u001b[39mtuple\u001b[39;49m(as_dimension(d)\u001b[39m.\u001b[39;49mvalue \u001b[39mfor\u001b[39;49;00m d \u001b[39min\u001b[39;49;00m dims)\n\u001b[0;32m    775\u001b[0m \u001b[39melif\u001b[39;00m dims \u001b[39mis\u001b[39;00m \u001b[39mNone\u001b[39;00m:\n\u001b[0;32m    776\u001b[0m   \u001b[39mself\u001b[39m\u001b[39m.\u001b[39m_dims \u001b[39m=\u001b[39m \u001b[39mNone\u001b[39;00m\n",
      "File \u001b[1;32m~\\AppData\\Roaming\\Python\\Python38\\site-packages\\tensorflow\\python\\framework\\tensor_shape.py:774\u001b[0m, in \u001b[0;36m<genexpr>\u001b[1;34m(.0)\u001b[0m\n\u001b[0;32m    765\u001b[0m \u001b[39m\"\"\"Creates a new TensorShape with the given dimensions.\u001b[39;00m\n\u001b[0;32m    766\u001b[0m \n\u001b[0;32m    767\u001b[0m \u001b[39mArgs:\u001b[39;00m\n\u001b[1;32m   (...)\u001b[0m\n\u001b[0;32m    771\u001b[0m \u001b[39m  TypeError: If dims cannot be converted to a list of dimensions.\u001b[39;00m\n\u001b[0;32m    772\u001b[0m \u001b[39m\"\"\"\u001b[39;00m\n\u001b[0;32m    773\u001b[0m \u001b[39mif\u001b[39;00m \u001b[39misinstance\u001b[39m(dims, (\u001b[39mtuple\u001b[39m, \u001b[39mlist\u001b[39m)):  \u001b[39m# Most common case.\u001b[39;00m\n\u001b[1;32m--> 774\u001b[0m   \u001b[39mself\u001b[39m\u001b[39m.\u001b[39m_dims \u001b[39m=\u001b[39m \u001b[39mtuple\u001b[39m(as_dimension(d)\u001b[39m.\u001b[39mvalue \u001b[39mfor\u001b[39;00m d \u001b[39min\u001b[39;00m dims)\n\u001b[0;32m    775\u001b[0m \u001b[39melif\u001b[39;00m dims \u001b[39mis\u001b[39;00m \u001b[39mNone\u001b[39;00m:\n\u001b[0;32m    776\u001b[0m   \u001b[39mself\u001b[39m\u001b[39m.\u001b[39m_dims \u001b[39m=\u001b[39m \u001b[39mNone\u001b[39;00m\n",
      "File \u001b[1;32m~\\AppData\\Roaming\\Python\\Python38\\site-packages\\tensorflow\\python\\framework\\tensor_shape.py:738\u001b[0m, in \u001b[0;36mas_dimension\u001b[1;34m(value)\u001b[0m\n\u001b[0;32m    736\u001b[0m   \u001b[39mreturn\u001b[39;00m value\n\u001b[0;32m    737\u001b[0m \u001b[39melse\u001b[39;00m:\n\u001b[1;32m--> 738\u001b[0m   \u001b[39mreturn\u001b[39;00m Dimension(value)\n",
      "File \u001b[1;32m~\\AppData\\Roaming\\Python\\Python38\\site-packages\\tensorflow\\python\\framework\\tensor_shape.py:214\u001b[0m, in \u001b[0;36mDimension.__init__\u001b[1;34m(self, value)\u001b[0m\n\u001b[0;32m    212\u001b[0m   \u001b[39mself\u001b[39m\u001b[39m.\u001b[39m_value \u001b[39m=\u001b[39m \u001b[39mint\u001b[39m(value\u001b[39m.\u001b[39m\u001b[39m__index__\u001b[39m())\n\u001b[0;32m    213\u001b[0m \u001b[39mexcept\u001b[39;00m \u001b[39mAttributeError\u001b[39;00m:\n\u001b[1;32m--> 214\u001b[0m   \u001b[39mraise\u001b[39;00m \u001b[39mTypeError\u001b[39;00m(\n\u001b[0;32m    215\u001b[0m       \u001b[39m\"\u001b[39m\u001b[39mDimension value must be integer or None or have \u001b[39m\u001b[39m\"\u001b[39m\n\u001b[0;32m    216\u001b[0m       \u001b[39m\"\u001b[39m\u001b[39man __index__ method, got value \u001b[39m\u001b[39m'\u001b[39m\u001b[39m{0!r}\u001b[39;00m\u001b[39m'\u001b[39m\u001b[39m with type \u001b[39m\u001b[39m'\u001b[39m\u001b[39m{1!r}\u001b[39;00m\u001b[39m'\u001b[39m\u001b[39m\"\u001b[39m\u001b[39m.\u001b[39mformat(\n\u001b[0;32m    217\u001b[0m           value, \u001b[39mtype\u001b[39m(value))) \u001b[39mfrom\u001b[39;00m \u001b[39mNone\u001b[39m\n\u001b[0;32m    218\u001b[0m \u001b[39mif\u001b[39;00m \u001b[39mself\u001b[39m\u001b[39m.\u001b[39m_value \u001b[39m<\u001b[39m \u001b[39m0\u001b[39m:\n\u001b[0;32m    219\u001b[0m   \u001b[39mraise\u001b[39;00m \u001b[39mValueError\u001b[39;00m(\u001b[39m\"\u001b[39m\u001b[39mDimension \u001b[39m\u001b[39m%d\u001b[39;00m\u001b[39m must be >= 0\u001b[39m\u001b[39m\"\u001b[39m \u001b[39m%\u001b[39m \u001b[39mself\u001b[39m\u001b[39m.\u001b[39m_value)\n",
      "\u001b[1;31mTypeError\u001b[0m: Dimension value must be integer or None or have an __index__ method, got value '0.349425478714389' with type '<class 'float'>'"
     ]
    }
   ],
   "source": [
    "optimizer = best_hyperparameters[0]\n",
    "units = best_hyperparameters[1]\n",
    "dropout_rate = best_hyperparameters[2]\n",
    "model = LSTMModel(units=units, dropout_rate=dropout_rate, optimizer=optimizer)\n",
    "\n",
    "X_train, y_train = lstm_predictor.data_handler.create_sequences(lstm_predictor.data[:-60], 60)\n",
    "model.train(X_train, y_train, epochs=10, batch_size=32, validation_split=0.2, patience=5)\n",
    "\n",
    "# Access training and validation losses\n",
    "train_losses = model.history.history['loss']\n",
    "val_losses = model.history.history['val_loss']\n",
    "\n",
    "# Predict the stock prices\n",
    "X_test, y_test = lstm_predictor.data_handler.create_sequences(lstm_predictor.data[-120:-60], 60)\n",
    "predictions = model.predict(X_test)\n",
    "\n",
    "# Visualize the results\n",
    "visualizer.visualize_predictions()\n",
    "visualizer.plot_true_vs_predicted()\n",
    "visualizer.plot_loss(train_losses, val_losses)"
   ]
  },
  {
   "cell_type": "code",
   "execution_count": null,
   "metadata": {},
   "outputs": [],
   "source": [
    "print(\"Training Transformer model...\")\n",
    "transformer_predictor = TransformerPredictor(tickers=tickers, start=start, end=end)\n",
    "transformer_predictor.train_and_evaluate(n_splits=n_splits)"
   ]
  },
  {
   "cell_type": "code",
   "execution_count": null,
   "metadata": {},
   "outputs": [],
   "source": [
    "print(\"Training GRU model...\")\n",
    "gru_predictor = GRUPredictor(tickers=tickers, start=start, end=end)\n",
    "gru_predictor.train_and_evaluate(n_splits=n_splits)"
   ]
  },
  {
   "cell_type": "code",
   "execution_count": null,
   "metadata": {},
   "outputs": [],
   "source": [
    "print(\"Training ARIMA model...\")\n",
    "arima_predictor = ARIMAPredictor(tickers=tickers, start=start, end=end)\n",
    "arima_predictor.download_data()  # Download the data first\n",
    "arima_predictor.train_all_models(arima_predictor.data)\n",
    "predictions = arima_predictor.predict_all_models(60)\n"
   ]
  },
  {
   "cell_type": "code",
   "execution_count": null,
   "metadata": {},
   "outputs": [
    {
     "name": "stdout",
     "output_type": "stream",
     "text": [
      "[44, 0.349425478714389, 'adam', 39, 0.3328079168300429, 'adam']\n",
      "Could not load the data from the pickle file\n",
      "Could not load the data from the pickle file\n"
     ]
    }
   ],
   "source": [
    "# LOAD AND PRINT PICKLE FILE\n",
    "import pickle\n",
    "import pandas as pd\n",
    "\n",
    "# try to load the data from all the files containing _best_hyperparameters in the name.\n",
    "for i in range(3):\n",
    "    try:\n",
    "        with open(f\"{'LSTM' if i == 0 else 'GRU' if i == 1 else 'ARIMA'}Model_best_hyperparameters.pickle\", \"rb\") as f:\n",
    "            data = pickle.load(f)\n",
    "            print(data)\n",
    "    except:\n",
    "        print(\"Could not load the data from the pickle file\")"
   ]
  },
  {
   "cell_type": "code",
   "execution_count": null,
   "metadata": {},
   "outputs": [],
   "source": []
  }
 ],
 "metadata": {
  "kernelspec": {
   "display_name": "base",
   "language": "python",
   "name": "python3"
  },
  "language_info": {
   "codemirror_mode": {
    "name": "ipython",
    "version": 3
   },
   "file_extension": ".py",
   "mimetype": "text/x-python",
   "name": "python",
   "nbconvert_exporter": "python",
   "pygments_lexer": "ipython3",
   "version": "3.8.16"
  },
  "orig_nbformat": 4
 },
 "nbformat": 4,
 "nbformat_minor": 2
}
