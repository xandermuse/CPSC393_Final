{
 "cells": [
  {
   "attachments": {},
   "cell_type": "markdown",
   "metadata": {},
   "source": [
    "### Models"
   ]
  },
  {
   "attachments": {},
   "cell_type": "markdown",
   "metadata": {},
   "source": [
    "Creating a Dockerfile and providing instructions for using it can be beneficial when working with a group, especially if your project has many dependencies or requires specific environment configurations. Docker allows you to create a container with all the necessary dependencies and configurations, making it easier for team members to run the project without having to set up the environment manually.\n",
    "\n",
    "Here's a simple outline of the steps to create a Dockerfile for your project:\n",
    "\n",
    "Install Docker on your machine if you haven't already. You can find the installation instructions for various platforms on the official Docker website.\n",
    "\n",
    "Create a Dockerfile in your project's root directory. The name should be exactly Dockerfile without any file extension.\n",
    "\n",
    "Open the Dockerfile in a text editor and specify the base image, dependencies, and any necessary configurations. For example, if you're using a Python project, you might start with a base Python image, then install the required packages using pip.\n",
    "\n",
    "Here's a simple example of a Dockerfile for a Python project:\n",
    "\n",
    "```Dockerfile\n",
    "Copy code\n",
    "# Use the official Python base image\n",
    "FROM python:3.8\n",
    "\n",
    "# Set the working directory\n",
    "WORKDIR /app\n",
    "\n",
    "# Copy the requirements file into the container\n",
    "COPY requirements.txt .\n",
    "\n",
    "# Install the dependencies\n",
    "RUN pip install --no-cache-dir -r requirements.txt\n",
    "\n",
    "# Copy the rest of the application code into the container\n",
    "COPY . .\n",
    "\n",
    "# Expose the port your application will run on (if needed)\n",
    "EXPOSE 8000\n",
    "\n",
    "# Start the application\n",
    "CMD [\"python\", \"your_main_script.py\"]\n",
    "```\n",
    "Create a requirements.txt file in your project's root directory, listing all the Python packages your project depends on. This file will be used by the pip install command in the Dockerfile.\n",
    "\n",
    "Build the Docker image by running the following command in the same directory as your Dockerfile:\n",
    "\n",
    "``` bash\n",
    "docker build -t your_image_name .\n",
    "```\n",
    "\n",
    "After building the image, team members can run the project using:\n",
    "```bash\n",
    "docker run -p host_port:container_port your_image_name\n",
    "```\n",
    "Make sure to replace host_port and container_port with the appropriate port numbers.\n",
    "\n",
    "Provide clear instructions in your project's README or documentation on how to build and run the Docker container.\n",
    "By creating a Dockerfile and providing instructions on how to use it, you'll make it much easier for your team members to collaborate and ensure that everyone is using a consistent environment."
   ]
  },
  {
   "cell_type": "markdown",
   "metadata": {},
   "source": []
  },
  {
   "cell_type": "code",
   "execution_count": 3,
   "metadata": {},
   "outputs": [
    {
     "name": "stdout",
     "output_type": "stream",
     "text": [
      "TensorFlow version: 2.11.0\n",
      "Keras version: 2.11.0\n",
      "Numpy version: 1.23.5\n",
      "Pandas version: 1.5.3\n",
      "Matplotlib version: 3.7.1\n",
      "Sklearn version: 1.2.2\n"
     ]
    }
   ],
   "source": [
    "# tensor flow version\n",
    "import tensorflow as tf\n",
    "import numpy as np\n",
    "import pandas as pd\n",
    "import matplotlib.pyplot as plt\n",
    "import keras\n",
    "import sklearn.metrics\n",
    "import matplotlib\n",
    "\n",
    "# print versions\n",
    "print('TensorFlow version: {}'.format(tf.__version__))\n",
    "print('Keras version: {}'.format(keras.__version__))\n",
    "print('Numpy version: {}'.format(np.__version__))\n",
    "print('Pandas version: {}'.format(pd.__version__))\n",
    "print('Matplotlib version: {}'.format(matplotlib.__version__))\n",
    "print('Sklearn version: {}'.format(sklearn.__version__))\n",
    "# print(tf.config.list_physical_devices('GPU'))\n",
    "#\n",
    "# # check if GPU is available\n",
    "# print(tf.test.is_gpu_available())\n",
    "#\n",
    "# # check if GPU is enabled\n",
    "#\n",
    "# print(tf.test.is_built_with_cuda())\n",
    "#\n",
    "# # check if GPU is visible\n",
    "# print(tf.config.list_physical_devices('GPU'))\n"
   ]
  },
  {
   "cell_type": "code",
   "execution_count": 5,
   "metadata": {},
   "outputs": [
    {
     "name": "stdout",
     "output_type": "stream",
     "text": [
      "Dill version: 0.3.6\n",
      "Yfinance version: 0.2.18\n"
     ]
    }
   ],
   "source": [
    "import dill\n",
    "print('Dill version: {}'.format(dill.__version__))\n",
    "import yfinance as yf\n",
    "print('Yfinance version: {}'.format(yf.__version__))"
   ]
  },
  {
   "cell_type": "code",
   "execution_count": 7,
   "metadata": {},
   "outputs": [
    {
     "name": "stdout",
     "output_type": "stream",
     "text": [
      "Transformers version: 4.28.1\n"
     ]
    }
   ],
   "source": [
    "import transformers\n",
    "print('Transformers version: {}'.format(transformers.__version__))"
   ]
  },
  {
   "cell_type": "code",
   "execution_count": null,
   "metadata": {},
   "outputs": [],
   "source": []
  }
 ],
 "metadata": {
  "kernelspec": {
   "display_name": "cpsc393",
   "language": "python",
   "name": "python3"
  },
  "language_info": {
   "codemirror_mode": {
    "name": "ipython",
    "version": 3
   },
   "file_extension": ".py",
   "mimetype": "text/x-python",
   "name": "python",
   "nbconvert_exporter": "python",
   "pygments_lexer": "ipython3",
   "version": "3.8.16"
  },
  "orig_nbformat": 4
 },
 "nbformat": 4,
 "nbformat_minor": 2
}
