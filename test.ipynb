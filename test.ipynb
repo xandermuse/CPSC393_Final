{
 "cells": [
  {
   "cell_type": "code",
   "execution_count": 45,
   "metadata": {},
   "outputs": [],
   "source": [
    "import sys\n",
    "import pandas as pd\n",
    "import numpy as np\n",
    "import datetime as dt\n",
    "from Components.Predictors.lstm_predictor import LSTMPredictor\n",
    "from Components.Predictors.gru_predictor import GRUPredictor\n",
    "from Components.Models.prophet_model import ProphetModel\n",
    "from Components.stock_visualizer import StockVisualizer\n",
    "from Components.Data.data_handler import DataHandler\n",
    "\n",
    "import warnings\n",
    "warnings.filterwarnings(\"ignore\")"
   ]
  },
  {
   "cell_type": "code",
   "execution_count": 46,
   "metadata": {},
   "outputs": [
    {
     "name": "stdout",
     "output_type": "stream",
     "text": [
      "[*********************100%***********************]  1 of 1 completed\n",
      "[*********************100%***********************]  1 of 1 completed"
     ]
    },
    {
     "name": "stderr",
     "output_type": "stream",
     "text": [
      "INFO:fbprophet:Disabling daily seasonality. Run prophet with daily_seasonality=True to override this.\n"
     ]
    },
    {
     "name": "stdout",
     "output_type": "stream",
     "text": [
      "\n"
     ]
    },
    {
     "name": "stderr",
     "output_type": "stream",
     "text": [
      "INFO:fbprophet:Disabling daily seasonality. Run prophet with daily_seasonality=True to override this.\n",
      "INFO:fbprophet:Disabling daily seasonality. Run prophet with daily_seasonality=True to override this.\n",
      "INFO:fbprophet:Disabling daily seasonality. Run prophet with daily_seasonality=True to override this.\n",
      "INFO:fbprophet:Disabling daily seasonality. Run prophet with daily_seasonality=True to override this.\n",
      "INFO:fbprophet:Disabling daily seasonality. Run prophet with daily_seasonality=True to override this.\n",
      "INFO:fbprophet:Disabling daily seasonality. Run prophet with daily_seasonality=True to override this.\n",
      "INFO:fbprophet:Disabling daily seasonality. Run prophet with daily_seasonality=True to override this.\n",
      "INFO:fbprophet:Disabling daily seasonality. Run prophet with daily_seasonality=True to override this.\n",
      "INFO:fbprophet:Disabling daily seasonality. Run prophet with daily_seasonality=True to override this.\n",
      "INFO:fbprophet:Disabling daily seasonality. Run prophet with daily_seasonality=True to override this.\n",
      "INFO:fbprophet:Disabling daily seasonality. Run prophet with daily_seasonality=True to override this.\n",
      "INFO:fbprophet:Disabling daily seasonality. Run prophet with daily_seasonality=True to override this.\n",
      "INFO:fbprophet:Making 1 forecasts with cutoffs between 2022-05-08 00:00:00 and 2022-05-08 00:00:00\n"
     ]
    },
    {
     "data": {
      "application/vnd.jupyter.widget-view+json": {
       "model_id": "baaa5b7729fb4e04bb5bd657c61c0603",
       "version_major": 2,
       "version_minor": 0
      },
      "text/plain": [
       "  0%|          | 0/1 [00:00<?, ?it/s]"
      ]
     },
     "metadata": {},
     "output_type": "display_data"
    },
    {
     "name": "stderr",
     "output_type": "stream",
     "text": [
      "INFO:fbprophet:Disabling daily seasonality. Run prophet with daily_seasonality=True to override this.\n",
      "INFO:fbprophet:Disabling daily seasonality. Run prophet with daily_seasonality=True to override this.\n",
      "INFO:fbprophet:Disabling daily seasonality. Run prophet with daily_seasonality=True to override this.\n",
      "INFO:fbprophet:Disabling daily seasonality. Run prophet with daily_seasonality=True to override this.\n"
     ]
    },
    {
     "name": "stdout",
     "output_type": "stream",
     "text": [
      "Best parameters for Open (additive): {'changepoint_prior_scale': 0.5, 'seasonality_prior_scale': 10.0, 'seasonality_mode': 'additive'}\n",
      "Best parameters for Open (multiplicative): {'changepoint_prior_scale': 0.5, 'seasonality_prior_scale': 10.0, 'seasonality_mode': 'multiplicative'}\n"
     ]
    },
    {
     "name": "stderr",
     "output_type": "stream",
     "text": [
      "INFO:fbprophet:Making 1 forecasts with cutoffs between 2022-05-08 00:00:00 and 2022-05-08 00:00:00\n"
     ]
    },
    {
     "data": {
      "application/vnd.jupyter.widget-view+json": {
       "model_id": "1f057b2b637f458bb6caa6982f76ef16",
       "version_major": 2,
       "version_minor": 0
      },
      "text/plain": [
       "  0%|          | 0/1 [00:00<?, ?it/s]"
      ]
     },
     "metadata": {},
     "output_type": "display_data"
    },
    {
     "name": "stderr",
     "output_type": "stream",
     "text": [
      "INFO:fbprophet:Disabling daily seasonality. Run prophet with daily_seasonality=True to override this.\n",
      "INFO:fbprophet:Disabling daily seasonality. Run prophet with daily_seasonality=True to override this.\n",
      "INFO:fbprophet:Disabling daily seasonality. Run prophet with daily_seasonality=True to override this.\n",
      "INFO:fbprophet:Disabling daily seasonality. Run prophet with daily_seasonality=True to override this.\n"
     ]
    },
    {
     "name": "stdout",
     "output_type": "stream",
     "text": [
      "Best parameters for High (additive): {'changepoint_prior_scale': 0.5, 'seasonality_prior_scale': 10.0, 'seasonality_mode': 'additive'}\n",
      "Best parameters for High (multiplicative): {'changepoint_prior_scale': 0.5, 'seasonality_prior_scale': 10.0, 'seasonality_mode': 'multiplicative'}\n"
     ]
    },
    {
     "name": "stderr",
     "output_type": "stream",
     "text": [
      "INFO:fbprophet:Making 1 forecasts with cutoffs between 2022-05-08 00:00:00 and 2022-05-08 00:00:00\n"
     ]
    },
    {
     "data": {
      "application/vnd.jupyter.widget-view+json": {
       "model_id": "bb423a1a09f5476a8cb459a32ea50483",
       "version_major": 2,
       "version_minor": 0
      },
      "text/plain": [
       "  0%|          | 0/1 [00:00<?, ?it/s]"
      ]
     },
     "metadata": {},
     "output_type": "display_data"
    },
    {
     "name": "stderr",
     "output_type": "stream",
     "text": [
      "INFO:fbprophet:Disabling daily seasonality. Run prophet with daily_seasonality=True to override this.\n",
      "INFO:fbprophet:Disabling daily seasonality. Run prophet with daily_seasonality=True to override this.\n",
      "INFO:fbprophet:Disabling daily seasonality. Run prophet with daily_seasonality=True to override this.\n",
      "INFO:fbprophet:Disabling daily seasonality. Run prophet with daily_seasonality=True to override this.\n"
     ]
    },
    {
     "name": "stdout",
     "output_type": "stream",
     "text": [
      "Best parameters for Low (additive): {'changepoint_prior_scale': 0.5, 'seasonality_prior_scale': 10.0, 'seasonality_mode': 'additive'}\n",
      "Best parameters for Low (multiplicative): {'changepoint_prior_scale': 0.5, 'seasonality_prior_scale': 10.0, 'seasonality_mode': 'multiplicative'}\n"
     ]
    },
    {
     "name": "stderr",
     "output_type": "stream",
     "text": [
      "INFO:fbprophet:Making 1 forecasts with cutoffs between 2022-05-08 00:00:00 and 2022-05-08 00:00:00\n"
     ]
    },
    {
     "data": {
      "application/vnd.jupyter.widget-view+json": {
       "model_id": "d7e1c662ed694e6f94201c91a7b96fab",
       "version_major": 2,
       "version_minor": 0
      },
      "text/plain": [
       "  0%|          | 0/1 [00:00<?, ?it/s]"
      ]
     },
     "metadata": {},
     "output_type": "display_data"
    },
    {
     "name": "stderr",
     "output_type": "stream",
     "text": [
      "INFO:fbprophet:Disabling daily seasonality. Run prophet with daily_seasonality=True to override this.\n",
      "INFO:fbprophet:Disabling daily seasonality. Run prophet with daily_seasonality=True to override this.\n",
      "INFO:fbprophet:Disabling daily seasonality. Run prophet with daily_seasonality=True to override this.\n",
      "INFO:fbprophet:Disabling daily seasonality. Run prophet with daily_seasonality=True to override this.\n"
     ]
    },
    {
     "name": "stdout",
     "output_type": "stream",
     "text": [
      "Best parameters for Close (additive): {'changepoint_prior_scale': 0.5, 'seasonality_prior_scale': 10.0, 'seasonality_mode': 'additive'}\n",
      "Best parameters for Close (multiplicative): {'changepoint_prior_scale': 0.5, 'seasonality_prior_scale': 10.0, 'seasonality_mode': 'multiplicative'}\n"
     ]
    },
    {
     "name": "stderr",
     "output_type": "stream",
     "text": [
      "INFO:fbprophet:Making 1 forecasts with cutoffs between 2022-05-08 00:00:00 and 2022-05-08 00:00:00\n"
     ]
    },
    {
     "data": {
      "application/vnd.jupyter.widget-view+json": {
       "model_id": "bdea11e62724400bab7cfb3a3d0e5088",
       "version_major": 2,
       "version_minor": 0
      },
      "text/plain": [
       "  0%|          | 0/1 [00:00<?, ?it/s]"
      ]
     },
     "metadata": {},
     "output_type": "display_data"
    },
    {
     "name": "stderr",
     "output_type": "stream",
     "text": [
      "INFO:fbprophet:Disabling daily seasonality. Run prophet with daily_seasonality=True to override this.\n",
      "INFO:fbprophet:Disabling daily seasonality. Run prophet with daily_seasonality=True to override this.\n",
      "INFO:fbprophet:Disabling daily seasonality. Run prophet with daily_seasonality=True to override this.\n",
      "INFO:fbprophet:Disabling daily seasonality. Run prophet with daily_seasonality=True to override this.\n"
     ]
    },
    {
     "name": "stdout",
     "output_type": "stream",
     "text": [
      "Best parameters for Adj Close (additive): {'changepoint_prior_scale': 0.5, 'seasonality_prior_scale': 10.0, 'seasonality_mode': 'additive'}\n",
      "Best parameters for Adj Close (multiplicative): {'changepoint_prior_scale': 0.5, 'seasonality_prior_scale': 10.0, 'seasonality_mode': 'multiplicative'}\n"
     ]
    },
    {
     "name": "stderr",
     "output_type": "stream",
     "text": [
      "INFO:fbprophet:Making 1 forecasts with cutoffs between 2022-05-08 00:00:00 and 2022-05-08 00:00:00\n"
     ]
    },
    {
     "data": {
      "application/vnd.jupyter.widget-view+json": {
       "model_id": "7ddd500b172b446a88d75c37532c5287",
       "version_major": 2,
       "version_minor": 0
      },
      "text/plain": [
       "  0%|          | 0/1 [00:00<?, ?it/s]"
      ]
     },
     "metadata": {},
     "output_type": "display_data"
    },
    {
     "name": "stderr",
     "output_type": "stream",
     "text": [
      "INFO:fbprophet:Disabling daily seasonality. Run prophet with daily_seasonality=True to override this.\n",
      "INFO:fbprophet:Disabling daily seasonality. Run prophet with daily_seasonality=True to override this.\n",
      "INFO:fbprophet:Disabling daily seasonality. Run prophet with daily_seasonality=True to override this.\n"
     ]
    },
    {
     "name": "stdout",
     "output_type": "stream",
     "text": [
      "Best parameters for Volume (additive): {'changepoint_prior_scale': 0.5, 'seasonality_prior_scale': 10.0, 'seasonality_mode': 'additive'}\n",
      "Best parameters for Volume (multiplicative): {'changepoint_prior_scale': 0.5, 'seasonality_prior_scale': 10.0, 'seasonality_mode': 'multiplicative'}\n",
      "Additive\n",
      "Additive\n",
      "Additive\n",
      "Additive\n",
      "Additive\n",
      "Additive\n",
      "\n",
      "Prophet future predictions:\n",
      "                  Open        High         Low       Close   Adj Close  \\\n",
      "2023-05-09  113.249445  113.630183  108.401876  111.665068  111.665068   \n",
      "2023-05-10  109.380220  110.049239  105.395661  108.727552  108.727552   \n",
      "2023-05-11  106.022983  106.482033  101.708452  104.874344  104.874344   \n",
      "2023-05-12  101.766506  101.544699   97.814676  101.037043  101.037043   \n",
      "2023-05-13  115.853343  116.598031  112.613306  115.462805  115.462805   \n",
      "2023-05-14  112.854246  113.576640  109.805543  112.679670  112.679670   \n",
      "2023-05-15   94.244646   95.805817   91.266343   95.730888   95.730888   \n",
      "\n",
      "                  Volume  \n",
      "2023-05-09  1.456783e+08  \n",
      "2023-05-10  1.385531e+08  \n",
      "2023-05-11  1.407665e+08  \n",
      "2023-05-12  1.353516e+08  \n",
      "2023-05-13  3.534792e+07  \n",
      "2023-05-14  3.398569e+07  \n",
      "2023-05-15  1.388257e+08  \n"
     ]
    }
   ],
   "source": [
    "\n",
    "\n",
    "tickers = [\"TSLA\"]\n",
    "start = dt.datetime(2020, 1, 1)\n",
    "end = dt.datetime(2023, 5, 9)\n",
    "n_splits = 2  # no larger than 6\n",
    "days_to_predict = 7\n",
    "sys.path.insert(0, 'Components')\n",
    "\n",
    "if __name__ == \"__main__\":\n",
    "    # Create DataHandler instance\n",
    "    data_handler = DataHandler(tickers=tickers, start_date=start, end_date=end)\n",
    "    data_handler.preprocess_data(sequence_length=60)\n",
    "\n",
    "    # Create ProphetModel instance\n",
    "    prophet_model = ProphetModel(tickers, start, end)\n",
    "    # Assuming data_handler.stock_data has the columns you want to predict\n",
    "    prophet_model.train(data_handler.stock_data, target_cols=['Open', 'High', 'Low', 'Close', 'Adj Close', 'Volume'])\n",
    "\n",
    "    # Prepare the data for Prophet\n",
    "    prophet_data = data_handler.stock_data[['Close']].reset_index()\n",
    "    prophet_data.columns = ['ds', 'y']\n",
    "    prophet_data['ds'] = pd.to_datetime(prophet_data['ds'])  # Convert 'ds' column to datetime objects\n",
    "\n",
    "    # Define the target columns\n",
    "    target_cols = ['Open', 'High', 'Low', 'Close', 'Adj Close', 'Volume']\n",
    "\n",
    "    # Optimize hyperparameters for each target column\n",
    "    for col in target_cols:\n",
    "        # Prepare the data for Prophet\n",
    "        df = data_handler.stock_data[[col]].reset_index()\n",
    "        df.columns = ['ds', 'y']\n",
    "        df['ds'] = pd.to_datetime(df['ds'])  # Convert 'ds' column to datetime objects\n",
    "\n",
    "        # Optimize hyperparameters and train the model with the best parameters\n",
    "        best_params, best_model = prophet_model.optimize_hyperparameters(df, col)\n",
    "        print(f\"Best parameters for {col} (additive):\", best_params['additive'])\n",
    "        print(f\"Best parameters for {col} (multiplicative):\", best_params['multiplicative'])\n",
    "        prophet_model.best_params[col] = best_params\n",
    "\n",
    "    # Create the future dataframe with predictions for the specified target columns\n",
    "    prophet_future_df = prophet_model.create_future_dataframe(data_handler.stock_data, future_periods=days_to_predict, target_cols=target_cols)\n",
    "\n",
    "    # Print the future dataframe with predictions\n",
    "    print(\"\\nProphet future predictions:\")\n",
    "    print(prophet_future_df)"
   ]
  },
  {
   "cell_type": "code",
   "execution_count": 47,
   "metadata": {},
   "outputs": [
    {
     "name": "stdout",
     "output_type": "stream",
     "text": [
      "[*********************100%***********************]  1 of 1 completed\n",
      "1/1 [==============================] - 3s 3s/step - loss: 0.0131 - val_loss: 0.0109 - lr: 0.0010\n",
      "1/1 [==============================] - 0s 469ms/step\n",
      "1/1 [==============================] - 0s 110ms/step - loss: 0.0124 - val_loss: 0.0173 - lr: 0.0010\n",
      "1/1 [==============================] - 0s 26ms/step\n",
      "Current call: 1\n",
      "1/1 [==============================] - 6s 6s/step - loss: 0.0465 - val_loss: 0.0200 - lr: 0.0010\n",
      "1/1 [==============================] - 0s 52ms/step - loss: 0.0191\n",
      "Current call: 2\n",
      "1/1 [==============================] - 3s 3s/step - loss: 0.0322 - val_loss: 0.0299 - lr: 0.0010\n",
      "1/1 [==============================] - 0s 29ms/step - loss: 0.0282\n",
      "Current call: 3\n",
      "1/1 [==============================] - 5s 5s/step - loss: 0.0201 - val_loss: 0.0032 - lr: 0.0010\n",
      "1/1 [==============================] - 0s 95ms/step - loss: 0.0027\n",
      "Current call: 4\n",
      "1/1 [==============================] - 4s 4s/step - loss: 0.1399 - val_loss: 0.0166 - lr: 0.0010\n",
      "1/1 [==============================] - 0s 34ms/step - loss: 0.0153\n",
      "Current call: 5\n",
      "1/1 [==============================] - 6s 6s/step - loss: 0.0272 - val_loss: 0.0089 - lr: 0.0010\n",
      "1/1 [==============================] - 0s 70ms/step - loss: 0.0095\n",
      "Current call: 6\n",
      "1/1 [==============================] - 5s 5s/step - loss: 0.0391 - val_loss: 0.0174 - lr: 0.0010\n",
      "1/1 [==============================] - 0s 48ms/step - loss: 0.0158\n",
      "Current call: 7\n",
      "1/1 [==============================] - 6s 6s/step - loss: 0.0196 - val_loss: 0.0196 - lr: 0.0010\n",
      "1/1 [==============================] - 0s 35ms/step - loss: 0.0180\n",
      "Current call: 8\n",
      "1/1 [==============================] - 3s 3s/step - loss: 0.0229 - val_loss: 0.0167 - lr: 0.0010\n",
      "1/1 [==============================] - 0s 27ms/step - loss: 0.0153\n",
      "Current call: 9\n",
      "1/1 [==============================] - 9s 9s/step - loss: 0.0140 - val_loss: 0.0040 - lr: 0.0010\n",
      "1/1 [==============================] - 0s 64ms/step - loss: 0.0043\n",
      "Current call: 10\n",
      "1/1 [==============================] - 3s 3s/step - loss: 0.0879 - val_loss: 0.0504 - lr: 0.0010\n",
      "1/1 [==============================] - 0s 27ms/step - loss: 0.0491\n",
      "1/1 [==============================] - 5s 5s/step - loss: 0.0204 - val_loss: 0.0032 - lr: 0.0010\n",
      "1/1 [==============================] - 1s 660ms/step\n",
      "1/1 [==============================] - 0s 21ms/step\n",
      "1/1 [==============================] - 0s 20ms/step\n",
      "1/1 [==============================] - 0s 20ms/step\n",
      "1/1 [==============================] - 0s 20ms/step\n",
      "1/1 [==============================] - 0s 22ms/step\n",
      "1/1 [==============================] - 0s 21ms/step\n",
      "1/1 [==============================] - 0s 20ms/step\n",
      "1/1 [==============================] - 0s 21ms/step\n",
      "1/1 [==============================] - 0s 21ms/step\n",
      "1/1 [==============================] - 0s 26ms/step\n",
      "1/1 [==============================] - 0s 19ms/step\n",
      "1/1 [==============================] - 0s 22ms/step\n",
      "1/1 [==============================] - 0s 19ms/step\n"
     ]
    }
   ],
   "source": [
    "# # Create GRUPredictor instance\n",
    "gru_predictor = GRUPredictor(tickers, start, end)\n",
    "true_values_gru, predictions_gru, mse_scores_gru, mae_scores_gru, r2_scores_gru = gru_predictor.train_and_evaluate(n_splits=n_splits)\n",
    "\n",
    "# Optimize the GRU model\n",
    "best_hyperparameters_gru, best_model_gru = gru_predictor.optimize_model((gru_predictor.data.X, gru_predictor.data.y), gru_predictor.test_data)\n",
    "gru_future_predictions = gru_predictor.predict_future(days_to_predict=days_to_predict)\n",
    "\n",
    "# Make future predictions with the optimized GRU model and create a combined DataFrame\n",
    "combined_data_gru = data_handler.create_future_dataframe(gru_predictor, days_to_predict=days_to_predict)"
   ]
  },
  {
   "cell_type": "code",
   "execution_count": 48,
   "metadata": {},
   "outputs": [
    {
     "name": "stdout",
     "output_type": "stream",
     "text": [
      "[*********************100%***********************]  1 of 1 completed\n",
      "1/1 [==============================] - 3s 3s/step - loss: 0.0139 - val_loss: 0.0223 - lr: 0.0010\n",
      "1/1 [==============================] - 1s 517ms/step\n",
      "1/1 [==============================] - 0s 101ms/step - loss: 0.0129 - val_loss: 0.0085 - lr: 0.0010\n",
      "1/1 [==============================] - 0s 25ms/step\n",
      "Current call: 1\n",
      "Epoch 1/5\n",
      "1/1 [==============================] - 6s 6s/step - loss: 0.0111 - val_loss: 0.0099 - lr: 0.0010\n",
      "Epoch 2/5\n",
      "1/1 [==============================] - 0s 358ms/step - loss: 0.0132 - val_loss: 0.0185 - lr: 0.0010\n",
      "Epoch 3/5\n",
      "1/1 [==============================] - 0s 332ms/step - loss: 0.0135 - val_loss: 0.0155 - lr: 0.0010\n",
      "Epoch 4/5\n",
      "1/1 [==============================] - 0s 342ms/step - loss: 0.0086 - val_loss: 0.0123 - lr: 0.0010\n",
      "Epoch 5/5\n",
      "1/1 [==============================] - 0s 335ms/step - loss: 0.0077 - val_loss: 0.0147 - lr: 0.0010\n",
      "1/1 [==============================] - 0s 56ms/step - loss: 0.0132\n",
      "Current call: 2\n",
      "Epoch 1/5\n",
      "1/1 [==============================] - 3s 3s/step - loss: 0.0120 - val_loss: 0.0093 - lr: 0.0010\n",
      "Epoch 2/5\n",
      "1/1 [==============================] - 0s 101ms/step - loss: 0.0031 - val_loss: 0.0019 - lr: 0.0010\n",
      "Epoch 3/5\n",
      "1/1 [==============================] - 0s 102ms/step - loss: 0.0046 - val_loss: 0.0011 - lr: 0.0010\n",
      "Epoch 4/5\n",
      "1/1 [==============================] - 0s 99ms/step - loss: 0.0044 - val_loss: 0.0018 - lr: 0.0010\n",
      "Epoch 5/5\n",
      "1/1 [==============================] - 0s 102ms/step - loss: 0.0040 - val_loss: 0.0033 - lr: 0.0010\n",
      "1/1 [==============================] - 0s 32ms/step - loss: 0.0027\n",
      "Current call: 3\n",
      "Epoch 1/5\n",
      "1/1 [==============================] - 6s 6s/step - loss: 0.0174 - val_loss: 0.0046 - lr: 0.0010\n",
      "Epoch 2/5\n",
      "1/1 [==============================] - 0s 496ms/step - loss: 0.0057 - val_loss: 0.0025 - lr: 0.0010\n",
      "Epoch 3/5\n",
      "1/1 [==============================] - 0s 492ms/step - loss: 0.0037 - val_loss: 0.0079 - lr: 0.0010\n",
      "Epoch 4/5\n",
      "1/1 [==============================] - 1s 504ms/step - loss: 0.0040 - val_loss: 0.0090 - lr: 0.0010\n",
      "Epoch 5/5\n",
      "1/1 [==============================] - 0s 494ms/step - loss: 0.0038 - val_loss: 0.0087 - lr: 0.0010\n",
      "1/1 [==============================] - 0s 97ms/step - loss: 0.0077\n",
      "Current call: 4\n",
      "Epoch 1/5\n",
      "1/1 [==============================] - 3s 3s/step - loss: 0.0492 - val_loss: 0.0298 - lr: 0.0010\n",
      "Epoch 2/5\n",
      "1/1 [==============================] - 0s 255ms/step - loss: 0.0521 - val_loss: 0.0145 - lr: 0.0010\n",
      "Epoch 3/5\n",
      "1/1 [==============================] - 0s 233ms/step - loss: 0.0320 - val_loss: 0.0243 - lr: 0.0010\n",
      "Epoch 4/5\n",
      "1/1 [==============================] - 0s 233ms/step - loss: 0.0342 - val_loss: 0.0168 - lr: 0.0010\n",
      "Epoch 5/5\n",
      "1/1 [==============================] - 0s 231ms/step - loss: 0.0178 - val_loss: 0.0135 - lr: 0.0010\n",
      "1/1 [==============================] - 0s 49ms/step - loss: 0.0122\n",
      "Current call: 5\n",
      "Epoch 1/5\n",
      "1/1 [==============================] - 6s 6s/step - loss: 0.0168 - val_loss: 0.0069 - lr: 0.0010\n",
      "Epoch 2/5\n",
      "1/1 [==============================] - 0s 247ms/step - loss: 0.0110 - val_loss: 0.0178 - lr: 0.0010\n",
      "Epoch 3/5\n",
      "1/1 [==============================] - 0s 239ms/step - loss: 0.0076 - val_loss: 0.0092 - lr: 0.0010\n",
      "Epoch 4/5\n",
      "1/1 [==============================] - 0s 245ms/step - loss: 0.0049 - val_loss: 0.0102 - lr: 0.0010\n",
      "Epoch 5/5\n",
      "1/1 [==============================] - 0s 235ms/step - loss: 0.0042 - val_loss: 0.0072 - lr: 0.0010\n",
      "1/1 [==============================] - 0s 54ms/step - loss: 0.0059\n",
      "Current call: 6\n",
      "Epoch 1/5\n",
      "1/1 [==============================] - 5s 5s/step - loss: 0.0186 - val_loss: 0.0125 - lr: 0.0010\n",
      "Epoch 2/5\n",
      "1/1 [==============================] - 0s 312ms/step - loss: 0.0102 - val_loss: 0.0055 - lr: 0.0010\n",
      "Epoch 3/5\n",
      "1/1 [==============================] - 0s 329ms/step - loss: 0.0084 - val_loss: 0.0061 - lr: 0.0010\n",
      "Epoch 4/5\n",
      "1/1 [==============================] - 0s 303ms/step - loss: 0.0097 - val_loss: 0.0065 - lr: 0.0010\n",
      "Epoch 5/5\n",
      "1/1 [==============================] - 0s 301ms/step - loss: 0.0084 - val_loss: 0.0082 - lr: 0.0010\n",
      "1/1 [==============================] - 0s 64ms/step - loss: 0.0069\n",
      "Current call: 7\n",
      "Epoch 1/5\n",
      "1/1 [==============================] - 7s 7s/step - loss: 0.0141 - val_loss: 0.0159 - lr: 0.0010\n",
      "Epoch 2/5\n",
      "1/1 [==============================] - 0s 160ms/step - loss: 0.0065 - val_loss: 0.0098 - lr: 0.0010\n",
      "Epoch 3/5\n",
      "1/1 [==============================] - 0s 141ms/step - loss: 0.0048 - val_loss: 0.0072 - lr: 0.0010\n",
      "Epoch 4/5\n",
      "1/1 [==============================] - 0s 148ms/step - loss: 0.0033 - val_loss: 0.0058 - lr: 0.0010\n",
      "Epoch 5/5\n",
      "1/1 [==============================] - 0s 143ms/step - loss: 0.0030 - val_loss: 0.0051 - lr: 0.0010\n",
      "1/1 [==============================] - 0s 34ms/step - loss: 0.0040\n",
      "Current call: 8\n",
      "Epoch 1/5\n",
      "1/1 [==============================] - 4s 4s/step - loss: 0.0320 - val_loss: 0.0354 - lr: 0.0010\n",
      "Epoch 2/5\n",
      "1/1 [==============================] - 0s 67ms/step - loss: 0.0209 - val_loss: 0.0283 - lr: 0.0010\n",
      "Epoch 3/5\n",
      "1/1 [==============================] - 0s 70ms/step - loss: 0.0159 - val_loss: 0.0232 - lr: 0.0010\n",
      "Epoch 4/5\n",
      "1/1 [==============================] - 0s 69ms/step - loss: 0.0099 - val_loss: 0.0191 - lr: 0.0010\n",
      "Epoch 5/5\n",
      "1/1 [==============================] - 0s 69ms/step - loss: 0.0076 - val_loss: 0.0153 - lr: 0.0010\n",
      "1/1 [==============================] - 0s 24ms/step - loss: 0.0137\n",
      "Current call: 9\n",
      "Epoch 1/5\n",
      "1/1 [==============================] - 8s 8s/step - loss: 0.0128 - val_loss: 0.0086 - lr: 0.0010\n",
      "Epoch 2/5\n",
      "1/1 [==============================] - 1s 646ms/step - loss: 0.0021 - val_loss: 0.0040 - lr: 0.0010\n",
      "Epoch 3/5\n",
      "1/1 [==============================] - 1s 538ms/step - loss: 0.0014 - val_loss: 0.0058 - lr: 0.0010\n",
      "Epoch 4/5\n",
      "1/1 [==============================] - 1s 559ms/step - loss: 0.0012 - val_loss: 0.0049 - lr: 0.0010\n",
      "Epoch 5/5\n",
      "1/1 [==============================] - 1s 585ms/step - loss: 0.0012 - val_loss: 0.0056 - lr: 0.0010\n",
      "1/1 [==============================] - 0s 89ms/step - loss: 0.0045\n",
      "Current call: 10\n",
      "Epoch 1/5\n",
      "1/1 [==============================] - 3s 3s/step - loss: 0.0356 - val_loss: 0.0340 - lr: 0.0010\n",
      "Epoch 2/5\n",
      "1/1 [==============================] - 0s 87ms/step - loss: 0.0424 - val_loss: 0.0304 - lr: 0.0010\n",
      "Epoch 3/5\n",
      "1/1 [==============================] - 0s 88ms/step - loss: 0.0356 - val_loss: 0.0278 - lr: 0.0010\n",
      "Epoch 4/5\n",
      "1/1 [==============================] - 0s 90ms/step - loss: 0.0229 - val_loss: 0.0248 - lr: 0.0010\n",
      "Epoch 5/5\n",
      "1/1 [==============================] - 0s 87ms/step - loss: 0.0199 - val_loss: 0.0219 - lr: 0.0010\n",
      "1/1 [==============================] - 0s 29ms/step - loss: 0.0203\n",
      "Epoch 1/10\n",
      "1/1 [==============================] - 4s 4s/step - loss: 0.0211 - val_loss: 0.0200 - lr: 0.0010\n",
      "Epoch 2/10\n",
      "1/1 [==============================] - 0s 145ms/step - loss: 0.0072 - val_loss: 0.0069 - lr: 0.0010\n",
      "Epoch 3/10\n",
      "1/1 [==============================] - 0s 133ms/step - loss: 0.0024 - val_loss: 0.0022 - lr: 0.0010\n",
      "Epoch 4/10\n",
      "1/1 [==============================] - 0s 138ms/step - loss: 0.0041 - val_loss: 0.0017 - lr: 0.0010\n",
      "Epoch 5/10\n",
      "1/1 [==============================] - 0s 125ms/step - loss: 0.0064 - val_loss: 0.0019 - lr: 0.0010\n",
      "Epoch 6/10\n",
      "1/1 [==============================] - 0s 129ms/step - loss: 0.0042 - val_loss: 0.0024 - lr: 0.0010\n",
      "Epoch 7/10\n",
      "1/1 [==============================] - 0s 138ms/step - loss: 0.0034 - val_loss: 0.0038 - lr: 0.0010\n",
      "Epoch 8/10\n",
      "1/1 [==============================] - 0s 123ms/step - loss: 0.0018 - val_loss: 0.0056 - lr: 0.0010\n",
      "Epoch 9/10\n",
      "1/1 [==============================] - 0s 130ms/step - loss: 0.0019 - val_loss: 0.0071 - lr: 0.0010\n",
      "1/1 [==============================] - 1s 601ms/step\n",
      "1/1 [==============================] - 0s 22ms/step\n",
      "1/1 [==============================] - 0s 21ms/step\n",
      "1/1 [==============================] - 0s 22ms/step\n",
      "1/1 [==============================] - 0s 23ms/step\n",
      "1/1 [==============================] - 0s 21ms/step\n",
      "1/1 [==============================] - 0s 23ms/step\n"
     ]
    }
   ],
   "source": [
    "# Create LSTMPredictor instance\n",
    "lstm_predictor = LSTMPredictor(tickers, start, end)\n",
    "true_values, predictions, mse_scores, mae_scores, r2_scores = lstm_predictor.train_and_evaluate(n_splits=n_splits)\n",
    "    \n",
    "# Optimize the LSTM model\n",
    "best_hyperparameters = lstm_predictor.optimize_model((lstm_predictor.data.X, lstm_predictor.data.y), lstm_predictor.test_data)\n",
    "lstm_future_predictions = lstm_predictor.predict_future(days_to_predict=days_to_predict)"
   ]
  },
  {
   "cell_type": "code",
   "execution_count": 49,
   "metadata": {},
   "outputs": [],
   "source": [
    "true_open_gru, true_high_gru, true_low_gru, true_close_gru, true_adj_gru, true_vol_gru = np.array(true_values_gru).T\n",
    "predicted_open_gru, predicted_high_gru, predicted_low_gru, predicted_close_gru, predicted_adj_gru, predicted_vol_gru = np.array(predictions_gru).T\n",
    "\n",
    "true_close_gru_df = pd.DataFrame(true_close_gru, columns=['true_close_gru'], index=data_handler.stock_data.index[-len(true_close_gru):])\n",
    "predictions_close_gru_df = pd.DataFrame(predicted_close_gru, columns=['predicted_close_gru'], index=data_handler.stock_data.index[-len(predicted_close_gru):])\n",
    "\n",
    "combined_gru_df = pd.concat([true_close_gru_df, predictions_close_gru_df], axis=1)\n",
    "combined_gru_df.index = pd.to_datetime(combined_gru_df.index)\n"
   ]
  },
  {
   "cell_type": "code",
   "execution_count": 50,
   "metadata": {},
   "outputs": [
    {
     "name": "stdout",
     "output_type": "stream",
     "text": [
      "GRU Combined Data:\n",
      "                           Open        High         Low       Close  \\\n",
      "2023-05-02           161.880005  165.490005  158.929993  160.309998   \n",
      "2023-05-03           160.009995  165.000000  159.910004  160.610001   \n",
      "2023-05-04           162.710007  162.949997  159.649994  161.199997   \n",
      "2023-05-05           163.970001  170.789993  163.509995  170.059998   \n",
      "2023-05-08           173.720001  173.800003  169.190002  171.789993   \n",
      "2023-05-09 00:00:00   45.428240   39.164501   30.676388   46.387585   \n",
      "2023-05-10 00:00:00   46.046755   39.614950   31.820545   46.361425   \n",
      "2023-05-11 00:00:00   45.944452   39.864625   32.725955   45.015505   \n",
      "2023-05-12 00:00:00   44.915438   39.727988   32.970392   42.730223   \n",
      "2023-05-13 00:00:00   43.197362   39.241950   32.663630   40.154394   \n",
      "2023-05-14 00:00:00   41.169338   38.530852   32.057595   37.785450   \n",
      "2023-05-15 00:00:00   39.152393   37.716762   31.359250   35.871842   \n",
      "\n",
      "                      Adj Close        Volume  \n",
      "2023-05-02           160.309998  1.282597e+08  \n",
      "2023-05-03           160.610001  1.197280e+08  \n",
      "2023-05-04           161.199997  9.510850e+07  \n",
      "2023-05-05           170.059998  1.074409e+08  \n",
      "2023-05-08           171.789993  1.122494e+08  \n",
      "2023-05-09 00:00:00   30.659120  2.289596e+08  \n",
      "2023-05-10 00:00:00   29.804581  2.249053e+08  \n",
      "2023-05-11 00:00:00   28.774072  2.112405e+08  \n",
      "2023-05-12 00:00:00   28.121045  1.916861e+08  \n",
      "2023-05-13 00:00:00   27.955274  1.703507e+08  \n",
      "2023-05-14 00:00:00   28.115494  1.501500e+08  \n",
      "2023-05-15 00:00:00   28.385618  1.326061e+08  \n"
     ]
    }
   ],
   "source": [
    "print(\"GRU Combined Data:\")\n",
    "print(combined_data_gru.tail(21))"
   ]
  },
  {
   "cell_type": "code",
   "execution_count": 51,
   "metadata": {},
   "outputs": [
    {
     "name": "stdout",
     "output_type": "stream",
     "text": [
      "1/1 [==============================] - 0s 24ms/step\n",
      "1/1 [==============================] - 0s 25ms/step\n",
      "1/1 [==============================] - 0s 25ms/step\n",
      "1/1 [==============================] - 0s 21ms/step\n",
      "1/1 [==============================] - 0s 22ms/step\n",
      "1/1 [==============================] - 0s 22ms/step\n",
      "1/1 [==============================] - 0s 26ms/step\n",
      "LSTM Combined Data:\n",
      "                           Open        High         Low       Close  \\\n",
      "2023-05-02           161.880005  165.490005  158.929993  160.309998   \n",
      "2023-05-03           160.009995  165.000000  159.910004  160.610001   \n",
      "2023-05-04           162.710007  162.949997  159.649994  161.199997   \n",
      "2023-05-05           163.970001  170.789993  163.509995  170.059998   \n",
      "2023-05-08           173.720001  173.800003  169.190002  171.789993   \n",
      "2023-05-09 00:00:00   33.639218   53.942622   32.455130   29.527844   \n",
      "2023-05-10 00:00:00   33.017227   55.997663   33.103674   29.218245   \n",
      "2023-05-11 00:00:00   32.342950   58.129661   34.360511   28.642913   \n",
      "2023-05-12 00:00:00   31.770246   59.770500   35.815532   27.816165   \n",
      "2023-05-13 00:00:00   31.361000   60.726711   37.225759   26.822264   \n",
      "2023-05-14 00:00:00   31.119949   60.994921   38.452075   25.754236   \n",
      "2023-05-15 00:00:00   31.022364   60.664839   39.425223   24.694605   \n",
      "\n",
      "                      Adj Close        Volume  \n",
      "2023-05-02           160.309998  1.282597e+08  \n",
      "2023-05-03           160.610001  1.197280e+08  \n",
      "2023-05-04           161.199997  9.510850e+07  \n",
      "2023-05-05           170.059998  1.074409e+08  \n",
      "2023-05-08           171.789993  1.122494e+08  \n",
      "2023-05-09 00:00:00   24.878265  2.682105e+08  \n",
      "2023-05-10 00:00:00   25.013011  2.690392e+08  \n",
      "2023-05-11 00:00:00   25.168563  2.666163e+08  \n",
      "2023-05-12 00:00:00   25.353414  2.617870e+08  \n",
      "2023-05-13 00:00:00   25.556368  2.552014e+08  \n",
      "2023-05-14 00:00:00   25.766626  2.473900e+08  \n",
      "2023-05-15 00:00:00   25.975190  2.387844e+08  \n"
     ]
    }
   ],
   "source": [
    "combined_data_lstm = data_handler.create_future_dataframe(lstm_predictor, days_to_predict=days_to_predict)\n",
    "\n",
    "print(\"LSTM Combined Data:\")\n",
    "print(combined_data_lstm)"
   ]
  },
  {
   "cell_type": "code",
   "execution_count": 52,
   "metadata": {},
   "outputs": [
    {
     "name": "stdout",
     "output_type": "stream",
     "text": [
      "Prophet Open:\n",
      "2023-05-09    113.249445\n",
      "2023-05-10    109.380220\n",
      "2023-05-11    106.022983\n",
      "2023-05-12    101.766506\n",
      "2023-05-13    115.853343\n",
      "2023-05-14    112.854246\n",
      "2023-05-15     94.244646\n",
      "Freq: D, Name: Open, dtype: float64\n",
      "Prophet High:\n",
      "2023-05-09    113.630183\n",
      "2023-05-10    110.049239\n",
      "2023-05-11    106.482033\n",
      "2023-05-12    101.544699\n",
      "2023-05-13    116.598031\n",
      "2023-05-14    113.576640\n",
      "2023-05-15     95.805817\n",
      "Freq: D, Name: High, dtype: float64\n",
      "Prophet Low:\n",
      "2023-05-09    108.401876\n",
      "2023-05-10    105.395661\n",
      "2023-05-11    101.708452\n",
      "2023-05-12     97.814676\n",
      "2023-05-13    112.613306\n",
      "2023-05-14    109.805543\n",
      "2023-05-15     91.266343\n",
      "Freq: D, Name: Low, dtype: float64\n",
      "Prophet Close:\n",
      "2023-05-09    111.665068\n",
      "2023-05-10    108.727552\n",
      "2023-05-11    104.874344\n",
      "2023-05-12    101.037043\n",
      "2023-05-13    115.462805\n",
      "2023-05-14    112.679670\n",
      "2023-05-15     95.730888\n",
      "Freq: D, Name: Close, dtype: float64\n",
      "Prophet Adj Close:\n",
      "2023-05-09    111.665068\n",
      "2023-05-10    108.727552\n",
      "2023-05-11    104.874344\n",
      "2023-05-12    101.037043\n",
      "2023-05-13    115.462805\n",
      "2023-05-14    112.679670\n",
      "2023-05-15     95.730888\n",
      "Freq: D, Name: Adj Close, dtype: float64\n",
      "Prophet Volume:\n"
     ]
    }
   ],
   "source": [
    "\n",
    "    \n",
    "# Extracting relevant predictions from the different models\n",
    "lstm_open, lstm_high, lstm_low, lstm_close, lstm_adj, lstm_vol = lstm_future_predictions.T\n",
    "gru_open, gru_high, gru_low, gru_close, gru_adj, gru_vol = gru_future_predictions.T\n",
    "prophet_open = prophet_future_df['Open']\n",
    "prophet_high = prophet_future_df['High']\n",
    "prophet_low = prophet_future_df['Low']\n",
    "prophet_close = prophet_future_df['Close']\n",
    "prophet_adj = prophet_future_df['Adj Close']\n",
    "prophet_vol = prophet_future_df['Volume']\n",
    "\n",
    "# prophet_open, prophet_high, prophet_low, prophet_close, prophet_adj, prophet_vol = prophet_future_df.T\n",
    "print(\"Prophet Open:\")\n",
    "print(prophet_open)\n",
    "print(\"Prophet High:\")\n",
    "print(prophet_high)\n",
    "print(\"Prophet Low:\")\n",
    "print(prophet_low)\n",
    "print(\"Prophet Close:\")\n",
    "print(prophet_close)\n",
    "print(\"Prophet Adj Close:\")\n",
    "print(prophet_adj)\n",
    "print(\"Prophet Volume:\")"
   ]
  },
  {
   "cell_type": "code",
   "execution_count": 53,
   "metadata": {},
   "outputs": [
    {
     "name": "stdout",
     "output_type": "stream",
     "text": [
      "Predictions DataFrame:\n",
      "                     lstm_close  gru_close  prophet_close  lstm_open  \\\n",
      "2023-05-09 00:00:00   29.527844  46.387585     111.665068  33.639218   \n",
      "2023-05-10 00:00:00   29.218245  46.361425     108.727552  33.017227   \n",
      "2023-05-11 00:00:00   28.642913  45.015505     104.874344  32.342950   \n",
      "2023-05-12 00:00:00   27.816165  42.730223     101.037043  31.770246   \n",
      "2023-05-13 00:00:00   26.822264  40.154394     115.462805  31.361000   \n",
      "2023-05-14 00:00:00   25.754236  37.785450     112.679670  31.119949   \n",
      "2023-05-15 00:00:00   24.694605  35.871842      95.730888  31.022364   \n",
      "\n",
      "                      gru_open  prophet_open  lstm_high   gru_high  \\\n",
      "2023-05-09 00:00:00  45.428240    113.249445  53.942622  39.164501   \n",
      "2023-05-10 00:00:00  46.046755    109.380220  55.997663  39.614950   \n",
      "2023-05-11 00:00:00  45.944452    106.022983  58.129661  39.864625   \n",
      "2023-05-12 00:00:00  44.915438    101.766506  59.770500  39.727988   \n",
      "2023-05-13 00:00:00  43.197362    115.853343  60.726711  39.241950   \n",
      "2023-05-14 00:00:00  41.169338    112.854246  60.994921  38.530852   \n",
      "2023-05-15 00:00:00  39.152393     94.244646  60.664839  37.716762   \n",
      "\n",
      "                     prophet_high   lstm_low  ...  prophet_adj      lstm_vol  \\\n",
      "2023-05-09 00:00:00    113.630183  32.455130  ...   111.665068  2.682105e+08   \n",
      "2023-05-10 00:00:00    110.049239  33.103674  ...   108.727552  2.690392e+08   \n",
      "2023-05-11 00:00:00    106.482033  34.360511  ...   104.874344  2.666163e+08   \n",
      "2023-05-12 00:00:00    101.544699  35.815532  ...   101.037043  2.617870e+08   \n",
      "2023-05-13 00:00:00    116.598031  37.225759  ...   115.462805  2.552014e+08   \n",
      "2023-05-14 00:00:00    113.576640  38.452075  ...   112.679670  2.473900e+08   \n",
      "2023-05-15 00:00:00     95.805817  39.425223  ...    95.730888  2.387844e+08   \n",
      "\n",
      "                          gru_vol   prophet_vol  mean_close  mean_open  \\\n",
      "2023-05-09 00:00:00  2.289596e+08  1.456783e+08   62.526833  64.105634   \n",
      "2023-05-10 00:00:00  2.249053e+08  1.385531e+08   61.435741  62.814734   \n",
      "2023-05-11 00:00:00  2.112405e+08  1.407665e+08   59.510920  61.436795   \n",
      "2023-05-12 00:00:00  1.916861e+08  1.353516e+08   57.194477  59.484063   \n",
      "2023-05-13 00:00:00  1.703507e+08  3.534792e+07   60.813154  63.470568   \n",
      "2023-05-14 00:00:00  1.501500e+08  3.398569e+07   58.739785  61.714511   \n",
      "2023-05-15 00:00:00  1.326061e+08  1.388257e+08   52.099112  54.806468   \n",
      "\n",
      "                     mean_high   mean_low   mean_adj      mean_vol  \n",
      "2023-05-09 00:00:00  68.912435  57.177798  55.734151  2.142828e+08  \n",
      "2023-05-10 00:00:00  68.553951  56.773293  54.515048  2.108325e+08  \n",
      "2023-05-11 00:00:00  68.158773  56.264973  52.938993  2.062078e+08  \n",
      "2023-05-12 00:00:00  67.014396  55.533533  51.503834  1.962749e+08  \n",
      "2023-05-13 00:00:00  72.188897  60.834232  56.324815  1.536333e+08  \n",
      "2023-05-14 00:00:00  71.034138  60.105071  55.520597  1.438419e+08  \n",
      "2023-05-15 00:00:00  64.729139  54.016939  50.030565  1.700721e+08  \n",
      "\n",
      "[7 rows x 24 columns]\n"
     ]
    }
   ],
   "source": [
    "# Create the DataFrame with the given structure\n",
    "predictions_df = pd.DataFrame({\n",
    "        'lstm_close': lstm_close, 'gru_close': gru_close, 'prophet_close': prophet_close, \n",
    "        'lstm_open': lstm_open, 'gru_open': gru_open, 'prophet_open': prophet_open, \n",
    "        'lstm_high': lstm_high, 'gru_high': gru_high, 'prophet_high': prophet_high, \n",
    "        'lstm_low': lstm_low, 'gru_low': gru_low, 'prophet_low': prophet_low, \n",
    "        'lstm_adj': lstm_adj, 'gru_adj': gru_adj, 'prophet_adj': prophet_adj, \n",
    "        'lstm_vol': lstm_vol, 'gru_vol': gru_vol, 'prophet_vol': prophet_vol\n",
    "    }, index=combined_data_gru.index[-days_to_predict:])\n",
    "\n",
    "# Calculate the mean for each row\n",
    "predictions_df['mean_close'] = predictions_df[['lstm_close', 'gru_close', 'prophet_close']].mean(axis=1)\n",
    "predictions_df['mean_open'] = predictions_df[['lstm_open', 'gru_open', 'prophet_open']].mean(axis=1)\n",
    "predictions_df['mean_high'] = predictions_df[['lstm_high', 'gru_high', 'prophet_high']].mean(axis=1)\n",
    "predictions_df['mean_low'] = predictions_df[['lstm_low', 'gru_low', 'prophet_low']].mean(axis=1)\n",
    "predictions_df['mean_adj'] = predictions_df[['lstm_adj', 'gru_adj', 'prophet_adj']].mean(axis=1)\n",
    "predictions_df['mean_vol'] = predictions_df[['lstm_vol', 'gru_vol', 'prophet_vol']].mean(axis=1)\n",
    "\n",
    "print(\"Predictions DataFrame:\")\n",
    "print(predictions_df)\n"
   ]
  },
  {
   "cell_type": "code",
   "execution_count": 54,
   "metadata": {},
   "outputs": [
    {
     "name": "stdout",
     "output_type": "stream",
     "text": [
      "Close DataFrame:\n",
      "                     lstm_close  gru_close  prophet_close  mean_close\n",
      "2023-05-09 00:00:00   29.527844  46.387585     111.665068   62.526833\n",
      "2023-05-10 00:00:00   29.218245  46.361425     108.727552   61.435741\n",
      "2023-05-11 00:00:00   28.642913  45.015505     104.874344   59.510920\n",
      "2023-05-12 00:00:00   27.816165  42.730223     101.037043   57.194477\n",
      "2023-05-13 00:00:00   26.822264  40.154394     115.462805   60.813154\n",
      "2023-05-14 00:00:00   25.754236  37.785450     112.679670   58.739785\n",
      "2023-05-15 00:00:00   24.694605  35.871842      95.730888   52.099112\n",
      "Open DataFrame:\n",
      "                     lstm_open   gru_open  prophet_open  mean_open\n",
      "2023-05-09 00:00:00  33.639218  45.428240    113.249445  64.105634\n",
      "2023-05-10 00:00:00  33.017227  46.046755    109.380220  62.814734\n",
      "2023-05-11 00:00:00  32.342950  45.944452    106.022983  61.436795\n",
      "2023-05-12 00:00:00  31.770246  44.915438    101.766506  59.484063\n",
      "2023-05-13 00:00:00  31.361000  43.197362    115.853343  63.470568\n",
      "2023-05-14 00:00:00  31.119949  41.169338    112.854246  61.714511\n",
      "2023-05-15 00:00:00  31.022364  39.152393     94.244646  54.806468\n",
      "High DataFrame:\n",
      "                     lstm_high   gru_high  prophet_high  mean_high\n",
      "2023-05-09 00:00:00  53.942622  39.164501    113.630183  68.912435\n",
      "2023-05-10 00:00:00  55.997663  39.614950    110.049239  68.553951\n",
      "2023-05-11 00:00:00  58.129661  39.864625    106.482033  68.158773\n",
      "2023-05-12 00:00:00  59.770500  39.727988    101.544699  67.014396\n",
      "2023-05-13 00:00:00  60.726711  39.241950    116.598031  72.188897\n",
      "2023-05-14 00:00:00  60.994921  38.530852    113.576640  71.034138\n",
      "2023-05-15 00:00:00  60.664839  37.716762     95.805817  64.729139\n",
      "Low DataFrame:\n",
      "                      lstm_low    gru_low  prophet_low   mean_low\n",
      "2023-05-09 00:00:00  32.455130  30.676388   108.401876  57.177798\n",
      "2023-05-10 00:00:00  33.103674  31.820545   105.395661  56.773293\n",
      "2023-05-11 00:00:00  34.360511  32.725955   101.708452  56.264973\n",
      "2023-05-12 00:00:00  35.815532  32.970392    97.814676  55.533533\n",
      "2023-05-13 00:00:00  37.225759  32.663630   112.613306  60.834232\n",
      "2023-05-14 00:00:00  38.452075  32.057595   109.805543  60.105071\n",
      "2023-05-15 00:00:00  39.425223  31.359250    91.266343  54.016939\n",
      "Adj DataFrame:\n",
      "                      lstm_adj    gru_adj  prophet_adj   mean_adj\n",
      "2023-05-09 00:00:00  24.878265  30.659120   111.665068  55.734151\n",
      "2023-05-10 00:00:00  25.013011  29.804581   108.727552  54.515048\n",
      "2023-05-11 00:00:00  25.168563  28.774072   104.874344  52.938993\n",
      "2023-05-12 00:00:00  25.353414  28.121045   101.037043  51.503834\n",
      "2023-05-13 00:00:00  25.556368  27.955274   115.462805  56.324815\n",
      "2023-05-14 00:00:00  25.766626  28.115494   112.679670  55.520597\n",
      "2023-05-15 00:00:00  25.975190  28.385618    95.730888  50.030565\n",
      "Vol DataFrame:\n",
      "                         lstm_vol       gru_vol   prophet_vol      mean_vol\n",
      "2023-05-09 00:00:00  2.682105e+08  2.289596e+08  1.456783e+08  2.142828e+08\n",
      "2023-05-10 00:00:00  2.690392e+08  2.249053e+08  1.385531e+08  2.108325e+08\n",
      "2023-05-11 00:00:00  2.666163e+08  2.112405e+08  1.407665e+08  2.062078e+08\n",
      "2023-05-12 00:00:00  2.617870e+08  1.916861e+08  1.353516e+08  1.962749e+08\n",
      "2023-05-13 00:00:00  2.552014e+08  1.703507e+08  3.534792e+07  1.536333e+08\n",
      "2023-05-14 00:00:00  2.473900e+08  1.501500e+08  3.398569e+07  1.438419e+08\n",
      "2023-05-15 00:00:00  2.387844e+08  1.326061e+08  1.388257e+08  1.700721e+08\n"
     ]
    }
   ],
   "source": [
    "# create a close price dataframe include mean column\n",
    "close_df = pd.DataFrame({\n",
    "        'lstm_close': lstm_close, 'gru_close': gru_close, 'prophet_close': prophet_close,\n",
    "        'mean_close': predictions_df['mean_close']\n",
    "    }, index=combined_data_gru.index[-days_to_predict:])\n",
    "    \n",
    "open_df = pd.DataFrame({\n",
    "        'lstm_open': lstm_open, 'gru_open': gru_open, 'prophet_open': prophet_open,\n",
    "        'mean_open': predictions_df['mean_open']\n",
    "    }, index=combined_data_gru.index[-days_to_predict:])\n",
    "\n",
    "high_df = pd.DataFrame({\n",
    "        'lstm_high': lstm_high, 'gru_high': gru_high, 'prophet_high': prophet_high,\n",
    "        'mean_high': predictions_df['mean_high']\n",
    "    }, index=combined_data_gru.index[-days_to_predict:])\n",
    "\n",
    "low_df = pd.DataFrame({\n",
    "        'lstm_low': lstm_low, 'gru_low': gru_low, 'prophet_low': prophet_low,\n",
    "        'mean_low': predictions_df['mean_low']\n",
    "    }, index=combined_data_gru.index[-days_to_predict:])\n",
    "\n",
    "adj_df = pd.DataFrame({\n",
    "        'lstm_adj': lstm_adj, 'gru_adj': gru_adj, 'prophet_adj': prophet_adj,\n",
    "        'mean_adj': predictions_df['mean_adj']\n",
    "    }, index=combined_data_gru.index[-days_to_predict:])\n",
    "\n",
    "vol_df = pd.DataFrame({\n",
    "        'lstm_vol': lstm_vol, 'gru_vol': gru_vol, 'prophet_vol': prophet_vol,\n",
    "        'mean_vol': predictions_df['mean_vol']\n",
    "    }, index=combined_data_gru.index[-days_to_predict:])\n",
    "\n",
    "\n",
    "print(\"Close DataFrame:\")\n",
    "print(close_df)\n",
    "print(\"Open DataFrame:\")\n",
    "print(open_df)\n",
    "print(\"High DataFrame:\")\n",
    "print(high_df)\n",
    "print(\"Low DataFrame:\")\n",
    "print(low_df)\n",
    "print(\"Adj DataFrame:\")\n",
    "print(adj_df)\n",
    "print(\"Vol DataFrame:\")\n",
    "print(vol_df)"
   ]
  },
  {
   "cell_type": "code",
   "execution_count": 55,
   "metadata": {},
   "outputs": [],
   "source": [
    "# save the dataframe to csv // {ticker}_close.csv\n",
    "close_df.to_csv(f'{tickers[0]}_close.csv')\n",
    "open_df.to_csv(f'{tickers[0]}_open.csv')\n",
    "high_df.to_csv(f'{tickers[0]}_high.csv')\n",
    "low_df.to_csv(f'{tickers[0]}_low.csv')\n",
    "adj_df.to_csv(f'{tickers[0]}_adj.csv')\n",
    "vol_df.to_csv(f'{tickers[0]}_vol.csv')"
   ]
  },
  {
   "cell_type": "code",
   "execution_count": 56,
   "metadata": {},
   "outputs": [
    {
     "name": "stdout",
     "output_type": "stream",
     "text": [
      "Mean DataFrame:\n",
      "                     mean_close  mean_open  mean_high   mean_low   mean_adj  \\\n",
      "2023-05-09 00:00:00   62.526833  64.105634  68.912435  57.177798  55.734151   \n",
      "2023-05-10 00:00:00   61.435741  62.814734  68.553951  56.773293  54.515048   \n",
      "2023-05-11 00:00:00   59.510920  61.436795  68.158773  56.264973  52.938993   \n",
      "2023-05-12 00:00:00   57.194477  59.484063  67.014396  55.533533  51.503834   \n",
      "2023-05-13 00:00:00   60.813154  63.470568  72.188897  60.834232  56.324815   \n",
      "2023-05-14 00:00:00   58.739785  61.714511  71.034138  60.105071  55.520597   \n",
      "2023-05-15 00:00:00   52.099112  54.806468  64.729139  54.016939  50.030565   \n",
      "\n",
      "                         mean_vol  \n",
      "2023-05-09 00:00:00  2.142828e+08  \n",
      "2023-05-10 00:00:00  2.108325e+08  \n",
      "2023-05-11 00:00:00  2.062078e+08  \n",
      "2023-05-12 00:00:00  1.962749e+08  \n",
      "2023-05-13 00:00:00  1.536333e+08  \n",
      "2023-05-14 00:00:00  1.438419e+08  \n",
      "2023-05-15 00:00:00  1.700721e+08  \n"
     ]
    }
   ],
   "source": [
    "# dataframe for mean predictions\n",
    "mean_df = pd.DataFrame({\n",
    "        'mean_close': predictions_df['mean_close'],\n",
    "        'mean_open': predictions_df['mean_open'],\n",
    "        'mean_high': predictions_df['mean_high'],\n",
    "        'mean_low': predictions_df['mean_low'],\n",
    "        'mean_adj': predictions_df['mean_adj'],\n",
    "        'mean_vol': predictions_df['mean_vol']\n",
    "    }, index=combined_data_gru.index[-days_to_predict:])\n",
    "\n",
    "print(\"Mean DataFrame:\")\n",
    "print(mean_df)\n",
    "\n",
    "mean_df.to_csv(f'{tickers[0]}_mean.csv')"
   ]
  },
  {
   "cell_type": "code",
   "execution_count": 57,
   "metadata": {},
   "outputs": [
    {
     "name": "stdout",
     "output_type": "stream",
     "text": [
      "Original DataFrame:\n",
      "                  open        high         low       close         adj  \\\n",
      "Date                                                                     \n",
      "2020-01-02   28.299999   28.713333   28.114000   28.684000   28.684000   \n",
      "2020-01-03   29.366667   30.266666   29.128000   29.534000   29.534000   \n",
      "2020-01-06   29.364668   30.104000   29.333332   30.102667   30.102667   \n",
      "2020-01-07   30.760000   31.441999   30.224001   31.270666   31.270666   \n",
      "2020-01-08   31.580000   33.232666   31.215334   32.809334   32.809334   \n",
      "...                ...         ...         ...         ...         ...   \n",
      "2023-05-02  161.880005  165.490005  158.929993  160.309998  160.309998   \n",
      "2023-05-03  160.009995  165.000000  159.910004  160.610001  160.610001   \n",
      "2023-05-04  162.710007  162.949997  159.649994  161.199997  161.199997   \n",
      "2023-05-05  163.970001  170.789993  163.509995  170.059998  170.059998   \n",
      "2023-05-08  173.720001  173.800003  169.190002  171.789993  171.789993   \n",
      "\n",
      "                  vol  \n",
      "Date                   \n",
      "2020-01-02  142981500  \n",
      "2020-01-03  266677500  \n",
      "2020-01-06  151995000  \n",
      "2020-01-07  268231500  \n",
      "2020-01-08  467164500  \n",
      "...               ...  \n",
      "2023-05-02  128259700  \n",
      "2023-05-03  119728000  \n",
      "2023-05-04   95108500  \n",
      "2023-05-05  107440900  \n",
      "2023-05-08  112249400  \n",
      "\n",
      "[843 rows x 6 columns]\n"
     ]
    }
   ],
   "source": [
    "# create dataframe for original data\n",
    "original_df = pd.DataFrame({\n",
    "        'open': data_handler.stock_data['Open'],\n",
    "        'high': data_handler.stock_data['High'],\n",
    "        'low': data_handler.stock_data['Low'],\n",
    "        'close': data_handler.stock_data['Close'],\n",
    "        'adj': data_handler.stock_data['Adj Close'],\n",
    "        'vol': data_handler.stock_data['Volume']\n",
    "    }, index=data_handler.stock_data.index)\n",
    "\n",
    "print(\"Original DataFrame:\")\n",
    "print(original_df)\n",
    "\n",
    "original_df.to_csv(f'{tickers[0]}_original.csv')"
   ]
  },
  {
   "cell_type": "code",
   "execution_count": null,
   "metadata": {},
   "outputs": [],
   "source": []
  }
 ],
 "metadata": {
  "kernelspec": {
   "display_name": "cpsc393",
   "language": "python",
   "name": "python3"
  },
  "language_info": {
   "codemirror_mode": {
    "name": "ipython",
    "version": 3
   },
   "file_extension": ".py",
   "mimetype": "text/x-python",
   "name": "python",
   "nbconvert_exporter": "python",
   "pygments_lexer": "ipython3",
   "version": "3.8.16"
  },
  "orig_nbformat": 4
 },
 "nbformat": 4,
 "nbformat_minor": 2
}
