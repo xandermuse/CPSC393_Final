{
 "cells": [
  {
   "attachments": {},
   "cell_type": "markdown",
   "metadata": {},
   "source": [
    "https://towardsdatascience.com/stock-predictions-with-state-of-the-art-transformer-and-time-embeddings-3a4485237de6\n",
    "\n",
    "\n",
    "[1] Why Self-Attention? A Targeted Evaluation of Neural Machine Translation Architectures https://arxiv.org/abs/1808.08946\n",
    "\n",
    "[2] BERT: Pre-training of Deep Bidirectional Transformers for Language Understanding https://arxiv.org/abs/1810.04805\n",
    "\n",
    "[3] Time2Vec: Learning a Vector Representation of Time https://arxiv.org/abs/1907.05321\n",
    "\n",
    "[4] Attention Is All You Need https://arxiv.org/abs/1706.03762"
   ]
  },
  {
   "attachments": {},
   "cell_type": "markdown",
   "metadata": {},
   "source": [
    "## interesting links\n",
    "\n",
    "https://www.kaggle.com/general/402210\n",
    "- Stock Market Prediction using Transformers (Transformers)"
   ]
  },
  {
   "cell_type": "code",
   "execution_count": null,
   "metadata": {},
   "outputs": [],
   "source": []
  }
 ],
 "metadata": {
  "language_info": {
   "name": "python"
  },
  "orig_nbformat": 4
 },
 "nbformat": 4,
 "nbformat_minor": 2
}
